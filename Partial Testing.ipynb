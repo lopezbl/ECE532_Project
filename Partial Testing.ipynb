{
 "cells": [
  {
   "cell_type": "markdown",
   "metadata": {},
   "source": [
    "# Testing"
   ]
  },
  {
   "cell_type": "code",
   "execution_count": 1,
   "metadata": {},
   "outputs": [],
   "source": [
    "import numpy as np\n",
    "import matplotlib.pyplot as plt\n",
    "from sympy import Matrix\n",
    "from IPython.display import display, Math\n",
    "import pandas as pd"
   ]
  },
  {
   "cell_type": "code",
   "execution_count": 2,
   "metadata": {},
   "outputs": [],
   "source": [
    "def prec_mat(y,yhat):\n",
    "    \n",
    "    y_true = len(y[y==1])\n",
    "    y_false = len(y[y==-1])\n",
    "    \n",
    "    yhat_true = len(yhat[yhat==1])\n",
    "    yhat_false = len(yhat[yhat==-1])\n",
    "    \n",
    "    error = y - yhat\n",
    "    \n",
    "    inc_true = len(error[error==2])\n",
    "    inc_false = len(error[error==-2])\n",
    "    \n",
    "    cor_true = y_true - inc_true\n",
    "    cor_false = y_false - inc_false\n",
    "    \n",
    "    y_mat = np.array([[cor_true/y_true,inc_false/y_false],[inc_true/y_true,cor_false/y_false]])\n",
    "\n",
    "    return y_mat"
   ]
  },
  {
   "cell_type": "markdown",
   "metadata": {},
   "source": [
    "## Least Squared"
   ]
  },
  {
   "cell_type": "code",
   "execution_count": 3,
   "metadata": {},
   "outputs": [],
   "source": [
    "data = pd.read_csv('nasa_test.csv')\n",
    "data.drop(['Relative Velocity km per sec','Miss Dist.(kilometers)','Jupiter Tisserand Invariant','Epoch Osculation',\n",
    "           'Eccentricity','Inclination','Asc Node Longitude','Orbital Period','Perihelion Arg','Perihelion Time','Mean Anomaly',\n",
    "           'Mean Motion'],axis=1,inplace=True)"
   ]
  },
  {
   "cell_type": "code",
   "execution_count": 4,
   "metadata": {},
   "outputs": [
    {
     "data": {
      "text/html": [
       "<div>\n",
       "<style scoped>\n",
       "    .dataframe tbody tr th:only-of-type {\n",
       "        vertical-align: middle;\n",
       "    }\n",
       "\n",
       "    .dataframe tbody tr th {\n",
       "        vertical-align: top;\n",
       "    }\n",
       "\n",
       "    .dataframe thead th {\n",
       "        text-align: right;\n",
       "    }\n",
       "</style>\n",
       "<table border=\"1\" class=\"dataframe\">\n",
       "  <thead>\n",
       "    <tr style=\"text-align: right;\">\n",
       "      <th></th>\n",
       "      <th>Absolute Magnitude</th>\n",
       "      <th>Est Dia in KM(max)</th>\n",
       "      <th>Orbit Uncertainity</th>\n",
       "      <th>Minimum Orbit Intersection</th>\n",
       "      <th>Semi Major Axis</th>\n",
       "      <th>Perihelion Distance</th>\n",
       "      <th>Aphelion Dist</th>\n",
       "      <th>Hazardous</th>\n",
       "    </tr>\n",
       "  </thead>\n",
       "  <tbody>\n",
       "    <tr>\n",
       "      <th>0</th>\n",
       "      <td>20.4</td>\n",
       "      <td>0.494356</td>\n",
       "      <td>1</td>\n",
       "      <td>0.031146</td>\n",
       "      <td>0.855359</td>\n",
       "      <td>0.690580</td>\n",
       "      <td>1.020137</td>\n",
       "      <td>1</td>\n",
       "    </tr>\n",
       "    <tr>\n",
       "      <th>1</th>\n",
       "      <td>23.6</td>\n",
       "      <td>0.113250</td>\n",
       "      <td>7</td>\n",
       "      <td>0.086149</td>\n",
       "      <td>1.008238</td>\n",
       "      <td>0.883224</td>\n",
       "      <td>1.133252</td>\n",
       "      <td>-1</td>\n",
       "    </tr>\n",
       "    <tr>\n",
       "      <th>2</th>\n",
       "      <td>20.8</td>\n",
       "      <td>0.411188</td>\n",
       "      <td>0</td>\n",
       "      <td>0.044154</td>\n",
       "      <td>1.322797</td>\n",
       "      <td>0.962833</td>\n",
       "      <td>1.682761</td>\n",
       "      <td>1</td>\n",
       "    </tr>\n",
       "    <tr>\n",
       "      <th>3</th>\n",
       "      <td>25.3</td>\n",
       "      <td>0.051765</td>\n",
       "      <td>8</td>\n",
       "      <td>0.095969</td>\n",
       "      <td>2.506961</td>\n",
       "      <td>1.100599</td>\n",
       "      <td>3.913323</td>\n",
       "      <td>-1</td>\n",
       "    </tr>\n",
       "    <tr>\n",
       "      <th>4</th>\n",
       "      <td>23.4</td>\n",
       "      <td>0.124177</td>\n",
       "      <td>6</td>\n",
       "      <td>0.140935</td>\n",
       "      <td>1.540760</td>\n",
       "      <td>0.999165</td>\n",
       "      <td>2.082354</td>\n",
       "      <td>-1</td>\n",
       "    </tr>\n",
       "    <tr>\n",
       "      <th>...</th>\n",
       "      <td>...</td>\n",
       "      <td>...</td>\n",
       "      <td>...</td>\n",
       "      <td>...</td>\n",
       "      <td>...</td>\n",
       "      <td>...</td>\n",
       "      <td>...</td>\n",
       "      <td>...</td>\n",
       "    </tr>\n",
       "    <tr>\n",
       "      <th>464</th>\n",
       "      <td>21.7</td>\n",
       "      <td>0.271669</td>\n",
       "      <td>6</td>\n",
       "      <td>0.135162</td>\n",
       "      <td>2.131253</td>\n",
       "      <td>1.149324</td>\n",
       "      <td>3.113181</td>\n",
       "      <td>-1</td>\n",
       "    </tr>\n",
       "    <tr>\n",
       "      <th>465</th>\n",
       "      <td>20.4</td>\n",
       "      <td>0.494356</td>\n",
       "      <td>2</td>\n",
       "      <td>0.034161</td>\n",
       "      <td>1.466590</td>\n",
       "      <td>0.108481</td>\n",
       "      <td>2.824699</td>\n",
       "      <td>1</td>\n",
       "    </tr>\n",
       "    <tr>\n",
       "      <th>466</th>\n",
       "      <td>25.6</td>\n",
       "      <td>0.045086</td>\n",
       "      <td>7</td>\n",
       "      <td>0.013373</td>\n",
       "      <td>1.126420</td>\n",
       "      <td>0.991296</td>\n",
       "      <td>1.261545</td>\n",
       "      <td>-1</td>\n",
       "    </tr>\n",
       "    <tr>\n",
       "      <th>467</th>\n",
       "      <td>19.7</td>\n",
       "      <td>0.682402</td>\n",
       "      <td>3</td>\n",
       "      <td>0.196366</td>\n",
       "      <td>0.710146</td>\n",
       "      <td>0.362727</td>\n",
       "      <td>1.057565</td>\n",
       "      <td>-1</td>\n",
       "    </tr>\n",
       "    <tr>\n",
       "      <th>468</th>\n",
       "      <td>22.8</td>\n",
       "      <td>0.163697</td>\n",
       "      <td>6</td>\n",
       "      <td>0.036478</td>\n",
       "      <td>0.805029</td>\n",
       "      <td>0.526802</td>\n",
       "      <td>1.083256</td>\n",
       "      <td>-1</td>\n",
       "    </tr>\n",
       "  </tbody>\n",
       "</table>\n",
       "<p>469 rows × 8 columns</p>\n",
       "</div>"
      ],
      "text/plain": [
       "     Absolute Magnitude  Est Dia in KM(max)  Orbit Uncertainity  \\\n",
       "0                  20.4            0.494356                   1   \n",
       "1                  23.6            0.113250                   7   \n",
       "2                  20.8            0.411188                   0   \n",
       "3                  25.3            0.051765                   8   \n",
       "4                  23.4            0.124177                   6   \n",
       "..                  ...                 ...                 ...   \n",
       "464                21.7            0.271669                   6   \n",
       "465                20.4            0.494356                   2   \n",
       "466                25.6            0.045086                   7   \n",
       "467                19.7            0.682402                   3   \n",
       "468                22.8            0.163697                   6   \n",
       "\n",
       "     Minimum Orbit Intersection  Semi Major Axis  Perihelion Distance  \\\n",
       "0                      0.031146         0.855359             0.690580   \n",
       "1                      0.086149         1.008238             0.883224   \n",
       "2                      0.044154         1.322797             0.962833   \n",
       "3                      0.095969         2.506961             1.100599   \n",
       "4                      0.140935         1.540760             0.999165   \n",
       "..                          ...              ...                  ...   \n",
       "464                    0.135162         2.131253             1.149324   \n",
       "465                    0.034161         1.466590             0.108481   \n",
       "466                    0.013373         1.126420             0.991296   \n",
       "467                    0.196366         0.710146             0.362727   \n",
       "468                    0.036478         0.805029             0.526802   \n",
       "\n",
       "     Aphelion Dist  Hazardous  \n",
       "0         1.020137          1  \n",
       "1         1.133252         -1  \n",
       "2         1.682761          1  \n",
       "3         3.913323         -1  \n",
       "4         2.082354         -1  \n",
       "..             ...        ...  \n",
       "464       3.113181         -1  \n",
       "465       2.824699          1  \n",
       "466       1.261545         -1  \n",
       "467       1.057565         -1  \n",
       "468       1.083256         -1  \n",
       "\n",
       "[469 rows x 8 columns]"
      ]
     },
     "execution_count": 4,
     "metadata": {},
     "output_type": "execute_result"
    }
   ],
   "source": [
    "data"
   ]
  },
  {
   "cell_type": "code",
   "execution_count": 5,
   "metadata": {},
   "outputs": [],
   "source": [
    "y = data.Hazardous.values.reshape(-1,1)\n",
    "X_unscaled = data.drop(['Hazardous'],axis=1).values\n",
    "X_scale = np.array([32.1,34.83693825,9,0.477891,5.07200846,1.29983165,8.98385155])\n",
    "X = np.divide(X_unscaled,X_scale)"
   ]
  },
  {
   "cell_type": "code",
   "execution_count": 6,
   "metadata": {},
   "outputs": [
    {
     "data": {
      "text/latex": [
       "$\\displaystyle \\left[\\begin{matrix}-3.2\\\\-4.3\\\\-0.3\\\\-2.3\\\\-38.2\\\\5.3\\\\35.4\\end{matrix}\\right]$"
      ],
      "text/plain": [
       "Matrix([\n",
       "[ -3.2],\n",
       "[ -4.3],\n",
       "[ -0.3],\n",
       "[ -2.3],\n",
       "[-38.2],\n",
       "[  5.3],\n",
       "[ 35.4]])"
      ]
     },
     "metadata": {},
     "output_type": "display_data"
    }
   ],
   "source": [
    "w_LS = np.array([-3.16260673,-4.34208973,-0.32246162,-2.34655778,-38.23236007,5.30305961,35.44484863])\n",
    "display(Matrix(np.round(w_LS,1)))"
   ]
  },
  {
   "cell_type": "code",
   "execution_count": 7,
   "metadata": {},
   "outputs": [
    {
     "name": "stdout",
     "output_type": "stream",
     "text": [
      "The error using least squared is 15.8 %\n"
     ]
    }
   ],
   "source": [
    "yhat_LS = np.reshape(np.sign(X@w_LS),y.shape)\n",
    "error_LS = np.count_nonzero(y - yhat_LS) / len(y)\n",
    "print('The error using least squared is',np.round(error_LS*100,1),'%')"
   ]
  },
  {
   "cell_type": "code",
   "execution_count": 8,
   "metadata": {},
   "outputs": [
    {
     "data": {
      "text/latex": [
       "$\\displaystyle \\left[\\begin{matrix}0.0 & 0.0\\\\100.0 & 100.0\\end{matrix}\\right]$"
      ],
      "text/plain": [
       "Matrix([\n",
       "[  0.0,   0.0],\n",
       "[100.0, 100.0]])"
      ]
     },
     "metadata": {},
     "output_type": "display_data"
    }
   ],
   "source": [
    "mat_LS = prec_mat(y,yhat_LS)\n",
    "display(Matrix(np.round(mat_LS*100,1)))"
   ]
  },
  {
   "cell_type": "markdown",
   "metadata": {},
   "source": [
    "## Least Squared SMOTE"
   ]
  },
  {
   "cell_type": "markdown",
   "metadata": {},
   "source": [
    "### Initial Guess"
   ]
  },
  {
   "cell_type": "code",
   "execution_count": 9,
   "metadata": {},
   "outputs": [],
   "source": [
    "data = pd.read_csv('nasa_test.csv')\n",
    "data.drop(['Relative Velocity km per sec','Miss Dist.(kilometers)','Orbit Uncertainity','Jupiter Tisserand Invariant',\n",
    "           'Epoch Osculation','Eccentricity','Semi Major Axis','Inclination','Asc Node Longitude','Orbital Period','Perihelion Distance',\n",
    "           'Perihelion Arg','Aphelion Dist','Perihelion Time','Mean Anomaly','Mean Motion'],axis=1,inplace=True)"
   ]
  },
  {
   "cell_type": "code",
   "execution_count": 10,
   "metadata": {},
   "outputs": [
    {
     "data": {
      "text/html": [
       "<div>\n",
       "<style scoped>\n",
       "    .dataframe tbody tr th:only-of-type {\n",
       "        vertical-align: middle;\n",
       "    }\n",
       "\n",
       "    .dataframe tbody tr th {\n",
       "        vertical-align: top;\n",
       "    }\n",
       "\n",
       "    .dataframe thead th {\n",
       "        text-align: right;\n",
       "    }\n",
       "</style>\n",
       "<table border=\"1\" class=\"dataframe\">\n",
       "  <thead>\n",
       "    <tr style=\"text-align: right;\">\n",
       "      <th></th>\n",
       "      <th>Absolute Magnitude</th>\n",
       "      <th>Est Dia in KM(max)</th>\n",
       "      <th>Minimum Orbit Intersection</th>\n",
       "      <th>Hazardous</th>\n",
       "    </tr>\n",
       "  </thead>\n",
       "  <tbody>\n",
       "    <tr>\n",
       "      <th>0</th>\n",
       "      <td>20.4</td>\n",
       "      <td>0.494356</td>\n",
       "      <td>0.031146</td>\n",
       "      <td>1</td>\n",
       "    </tr>\n",
       "    <tr>\n",
       "      <th>1</th>\n",
       "      <td>23.6</td>\n",
       "      <td>0.113250</td>\n",
       "      <td>0.086149</td>\n",
       "      <td>-1</td>\n",
       "    </tr>\n",
       "    <tr>\n",
       "      <th>2</th>\n",
       "      <td>20.8</td>\n",
       "      <td>0.411188</td>\n",
       "      <td>0.044154</td>\n",
       "      <td>1</td>\n",
       "    </tr>\n",
       "    <tr>\n",
       "      <th>3</th>\n",
       "      <td>25.3</td>\n",
       "      <td>0.051765</td>\n",
       "      <td>0.095969</td>\n",
       "      <td>-1</td>\n",
       "    </tr>\n",
       "    <tr>\n",
       "      <th>4</th>\n",
       "      <td>23.4</td>\n",
       "      <td>0.124177</td>\n",
       "      <td>0.140935</td>\n",
       "      <td>-1</td>\n",
       "    </tr>\n",
       "    <tr>\n",
       "      <th>...</th>\n",
       "      <td>...</td>\n",
       "      <td>...</td>\n",
       "      <td>...</td>\n",
       "      <td>...</td>\n",
       "    </tr>\n",
       "    <tr>\n",
       "      <th>464</th>\n",
       "      <td>21.7</td>\n",
       "      <td>0.271669</td>\n",
       "      <td>0.135162</td>\n",
       "      <td>-1</td>\n",
       "    </tr>\n",
       "    <tr>\n",
       "      <th>465</th>\n",
       "      <td>20.4</td>\n",
       "      <td>0.494356</td>\n",
       "      <td>0.034161</td>\n",
       "      <td>1</td>\n",
       "    </tr>\n",
       "    <tr>\n",
       "      <th>466</th>\n",
       "      <td>25.6</td>\n",
       "      <td>0.045086</td>\n",
       "      <td>0.013373</td>\n",
       "      <td>-1</td>\n",
       "    </tr>\n",
       "    <tr>\n",
       "      <th>467</th>\n",
       "      <td>19.7</td>\n",
       "      <td>0.682402</td>\n",
       "      <td>0.196366</td>\n",
       "      <td>-1</td>\n",
       "    </tr>\n",
       "    <tr>\n",
       "      <th>468</th>\n",
       "      <td>22.8</td>\n",
       "      <td>0.163697</td>\n",
       "      <td>0.036478</td>\n",
       "      <td>-1</td>\n",
       "    </tr>\n",
       "  </tbody>\n",
       "</table>\n",
       "<p>469 rows × 4 columns</p>\n",
       "</div>"
      ],
      "text/plain": [
       "     Absolute Magnitude  Est Dia in KM(max)  Minimum Orbit Intersection  \\\n",
       "0                  20.4            0.494356                    0.031146   \n",
       "1                  23.6            0.113250                    0.086149   \n",
       "2                  20.8            0.411188                    0.044154   \n",
       "3                  25.3            0.051765                    0.095969   \n",
       "4                  23.4            0.124177                    0.140935   \n",
       "..                  ...                 ...                         ...   \n",
       "464                21.7            0.271669                    0.135162   \n",
       "465                20.4            0.494356                    0.034161   \n",
       "466                25.6            0.045086                    0.013373   \n",
       "467                19.7            0.682402                    0.196366   \n",
       "468                22.8            0.163697                    0.036478   \n",
       "\n",
       "     Hazardous  \n",
       "0            1  \n",
       "1           -1  \n",
       "2            1  \n",
       "3           -1  \n",
       "4           -1  \n",
       "..         ...  \n",
       "464         -1  \n",
       "465          1  \n",
       "466         -1  \n",
       "467         -1  \n",
       "468         -1  \n",
       "\n",
       "[469 rows x 4 columns]"
      ]
     },
     "execution_count": 10,
     "metadata": {},
     "output_type": "execute_result"
    }
   ],
   "source": [
    "data"
   ]
  },
  {
   "cell_type": "code",
   "execution_count": 11,
   "metadata": {},
   "outputs": [],
   "source": [
    "y = data.Hazardous.values.reshape(-1,1)\n",
    "X_unscaled = data.drop(['Hazardous'],axis=1).values\n",
    "X_scale = np.array([32.1,34.83693825,0.477891])\n",
    "X = np.divide(X_unscaled,X_scale)"
   ]
  },
  {
   "cell_type": "code",
   "execution_count": 12,
   "metadata": {},
   "outputs": [
    {
     "data": {
      "text/latex": [
       "$\\displaystyle \\left[\\begin{matrix}-0.01\\\\15.93\\\\-2.81\\end{matrix}\\right]$"
      ],
      "text/plain": [
       "Matrix([\n",
       "[-0.01],\n",
       "[15.93],\n",
       "[-2.81]])"
      ]
     },
     "metadata": {},
     "output_type": "display_data"
    }
   ],
   "source": [
    "w_LS_S_G = np.array([-0.00911348044,15.9325905,-2.81304124])\n",
    "display(Matrix(np.round(w_LS_S_G,2)))"
   ]
  },
  {
   "cell_type": "code",
   "execution_count": 13,
   "metadata": {},
   "outputs": [
    {
     "name": "stdout",
     "output_type": "stream",
     "text": [
      "The error using least squared guess with SMOTE is 13.4 %\n"
     ]
    }
   ],
   "source": [
    "yhat_LS_S_G = np.reshape(np.sign(X@w_LS_S_G),y.shape)\n",
    "error_LS_S_G = np.count_nonzero(y - yhat_LS_S_G) / len(y)\n",
    "print('The error using least squared guess with SMOTE is',np.round(error_LS_S_G*100,1),'%')"
   ]
  },
  {
   "cell_type": "code",
   "execution_count": 14,
   "metadata": {},
   "outputs": [
    {
     "data": {
      "text/latex": [
       "$\\displaystyle \\left[\\begin{matrix}73.0 & 10.9\\\\27.0 & 89.1\\end{matrix}\\right]$"
      ],
      "text/plain": [
       "Matrix([\n",
       "[73.0, 10.9],\n",
       "[27.0, 89.1]])"
      ]
     },
     "metadata": {},
     "output_type": "display_data"
    }
   ],
   "source": [
    "mat_LS_S_G = prec_mat(y,yhat_LS_S_G)\n",
    "display(Matrix(np.round(mat_LS_S_G*100,1)))"
   ]
  },
  {
   "cell_type": "markdown",
   "metadata": {},
   "source": [
    "### Ranking Results"
   ]
  },
  {
   "cell_type": "code",
   "execution_count": 15,
   "metadata": {},
   "outputs": [],
   "source": [
    "data = pd.read_csv('nasa_test.csv')\n",
    "data.drop(['Est Dia in KM(max)','Relative Velocity km per sec','Miss Dist.(kilometers)','Orbit Uncertainity',\n",
    "           'Jupiter Tisserand Invariant','Epoch Osculation','Eccentricity','Inclination','Asc Node Longitude','Orbital Period',\n",
    "           'Perihelion Arg','Perihelion Time','Mean Anomaly','Mean Motion'],axis=1,inplace=True)"
   ]
  },
  {
   "cell_type": "code",
   "execution_count": 16,
   "metadata": {},
   "outputs": [
    {
     "data": {
      "text/html": [
       "<div>\n",
       "<style scoped>\n",
       "    .dataframe tbody tr th:only-of-type {\n",
       "        vertical-align: middle;\n",
       "    }\n",
       "\n",
       "    .dataframe tbody tr th {\n",
       "        vertical-align: top;\n",
       "    }\n",
       "\n",
       "    .dataframe thead th {\n",
       "        text-align: right;\n",
       "    }\n",
       "</style>\n",
       "<table border=\"1\" class=\"dataframe\">\n",
       "  <thead>\n",
       "    <tr style=\"text-align: right;\">\n",
       "      <th></th>\n",
       "      <th>Absolute Magnitude</th>\n",
       "      <th>Minimum Orbit Intersection</th>\n",
       "      <th>Semi Major Axis</th>\n",
       "      <th>Perihelion Distance</th>\n",
       "      <th>Aphelion Dist</th>\n",
       "      <th>Hazardous</th>\n",
       "    </tr>\n",
       "  </thead>\n",
       "  <tbody>\n",
       "    <tr>\n",
       "      <th>0</th>\n",
       "      <td>20.4</td>\n",
       "      <td>0.031146</td>\n",
       "      <td>0.855359</td>\n",
       "      <td>0.690580</td>\n",
       "      <td>1.020137</td>\n",
       "      <td>1</td>\n",
       "    </tr>\n",
       "    <tr>\n",
       "      <th>1</th>\n",
       "      <td>23.6</td>\n",
       "      <td>0.086149</td>\n",
       "      <td>1.008238</td>\n",
       "      <td>0.883224</td>\n",
       "      <td>1.133252</td>\n",
       "      <td>-1</td>\n",
       "    </tr>\n",
       "    <tr>\n",
       "      <th>2</th>\n",
       "      <td>20.8</td>\n",
       "      <td>0.044154</td>\n",
       "      <td>1.322797</td>\n",
       "      <td>0.962833</td>\n",
       "      <td>1.682761</td>\n",
       "      <td>1</td>\n",
       "    </tr>\n",
       "    <tr>\n",
       "      <th>3</th>\n",
       "      <td>25.3</td>\n",
       "      <td>0.095969</td>\n",
       "      <td>2.506961</td>\n",
       "      <td>1.100599</td>\n",
       "      <td>3.913323</td>\n",
       "      <td>-1</td>\n",
       "    </tr>\n",
       "    <tr>\n",
       "      <th>4</th>\n",
       "      <td>23.4</td>\n",
       "      <td>0.140935</td>\n",
       "      <td>1.540760</td>\n",
       "      <td>0.999165</td>\n",
       "      <td>2.082354</td>\n",
       "      <td>-1</td>\n",
       "    </tr>\n",
       "    <tr>\n",
       "      <th>...</th>\n",
       "      <td>...</td>\n",
       "      <td>...</td>\n",
       "      <td>...</td>\n",
       "      <td>...</td>\n",
       "      <td>...</td>\n",
       "      <td>...</td>\n",
       "    </tr>\n",
       "    <tr>\n",
       "      <th>464</th>\n",
       "      <td>21.7</td>\n",
       "      <td>0.135162</td>\n",
       "      <td>2.131253</td>\n",
       "      <td>1.149324</td>\n",
       "      <td>3.113181</td>\n",
       "      <td>-1</td>\n",
       "    </tr>\n",
       "    <tr>\n",
       "      <th>465</th>\n",
       "      <td>20.4</td>\n",
       "      <td>0.034161</td>\n",
       "      <td>1.466590</td>\n",
       "      <td>0.108481</td>\n",
       "      <td>2.824699</td>\n",
       "      <td>1</td>\n",
       "    </tr>\n",
       "    <tr>\n",
       "      <th>466</th>\n",
       "      <td>25.6</td>\n",
       "      <td>0.013373</td>\n",
       "      <td>1.126420</td>\n",
       "      <td>0.991296</td>\n",
       "      <td>1.261545</td>\n",
       "      <td>-1</td>\n",
       "    </tr>\n",
       "    <tr>\n",
       "      <th>467</th>\n",
       "      <td>19.7</td>\n",
       "      <td>0.196366</td>\n",
       "      <td>0.710146</td>\n",
       "      <td>0.362727</td>\n",
       "      <td>1.057565</td>\n",
       "      <td>-1</td>\n",
       "    </tr>\n",
       "    <tr>\n",
       "      <th>468</th>\n",
       "      <td>22.8</td>\n",
       "      <td>0.036478</td>\n",
       "      <td>0.805029</td>\n",
       "      <td>0.526802</td>\n",
       "      <td>1.083256</td>\n",
       "      <td>-1</td>\n",
       "    </tr>\n",
       "  </tbody>\n",
       "</table>\n",
       "<p>469 rows × 6 columns</p>\n",
       "</div>"
      ],
      "text/plain": [
       "     Absolute Magnitude  Minimum Orbit Intersection  Semi Major Axis  \\\n",
       "0                  20.4                    0.031146         0.855359   \n",
       "1                  23.6                    0.086149         1.008238   \n",
       "2                  20.8                    0.044154         1.322797   \n",
       "3                  25.3                    0.095969         2.506961   \n",
       "4                  23.4                    0.140935         1.540760   \n",
       "..                  ...                         ...              ...   \n",
       "464                21.7                    0.135162         2.131253   \n",
       "465                20.4                    0.034161         1.466590   \n",
       "466                25.6                    0.013373         1.126420   \n",
       "467                19.7                    0.196366         0.710146   \n",
       "468                22.8                    0.036478         0.805029   \n",
       "\n",
       "     Perihelion Distance  Aphelion Dist  Hazardous  \n",
       "0               0.690580       1.020137          1  \n",
       "1               0.883224       1.133252         -1  \n",
       "2               0.962833       1.682761          1  \n",
       "3               1.100599       3.913323         -1  \n",
       "4               0.999165       2.082354         -1  \n",
       "..                   ...            ...        ...  \n",
       "464             1.149324       3.113181         -1  \n",
       "465             0.108481       2.824699          1  \n",
       "466             0.991296       1.261545         -1  \n",
       "467             0.362727       1.057565         -1  \n",
       "468             0.526802       1.083256         -1  \n",
       "\n",
       "[469 rows x 6 columns]"
      ]
     },
     "execution_count": 16,
     "metadata": {},
     "output_type": "execute_result"
    }
   ],
   "source": [
    "data"
   ]
  },
  {
   "cell_type": "code",
   "execution_count": 17,
   "metadata": {},
   "outputs": [],
   "source": [
    "y = data.Hazardous.values.reshape(-1,1)\n",
    "X_unscaled = data.drop(['Hazardous'],axis=1).values\n",
    "X_scale = np.array([32.1,0.477891,5.07200846,1.29983165,8.98385155])\n",
    "X = np.divide(X_unscaled,X_scale)"
   ]
  },
  {
   "cell_type": "code",
   "execution_count": 18,
   "metadata": {},
   "outputs": [
    {
     "data": {
      "text/latex": [
       "$\\displaystyle \\left[\\begin{matrix}-5.1\\\\-3.9\\\\-74.9\\\\10.3\\\\68.8\\end{matrix}\\right]$"
      ],
      "text/plain": [
       "Matrix([\n",
       "[ -5.1],\n",
       "[ -3.9],\n",
       "[-74.9],\n",
       "[ 10.3],\n",
       "[ 68.8]])"
      ]
     },
     "metadata": {},
     "output_type": "display_data"
    }
   ],
   "source": [
    "w_LS_S = np.array([-5.14142661,-3.93357432,-74.85054776,10.34111043,68.84737334])\n",
    "display(Matrix(np.round(w_LS_S,1)))"
   ]
  },
  {
   "cell_type": "code",
   "execution_count": 19,
   "metadata": {},
   "outputs": [
    {
     "name": "stdout",
     "output_type": "stream",
     "text": [
      "The error using least squared with SMOTE is 15.8 %\n"
     ]
    }
   ],
   "source": [
    "yhat_LS_S = np.reshape(np.sign(X@w_LS_S),y.shape)\n",
    "error_LS_S = np.count_nonzero(y - yhat_LS_S) / len(y)\n",
    "print('The error using least squared with SMOTE is',np.round(error_LS_S*100,1),'%')"
   ]
  },
  {
   "cell_type": "code",
   "execution_count": 20,
   "metadata": {},
   "outputs": [
    {
     "data": {
      "text/latex": [
       "$\\displaystyle \\left[\\begin{matrix}0.0 & 0.0\\\\100.0 & 100.0\\end{matrix}\\right]$"
      ],
      "text/plain": [
       "Matrix([\n",
       "[  0.0,   0.0],\n",
       "[100.0, 100.0]])"
      ]
     },
     "metadata": {},
     "output_type": "display_data"
    }
   ],
   "source": [
    "mat_LS_S = prec_mat(y,yhat_LS_S)\n",
    "display(Matrix(np.round(mat_LS_S*100,1)))"
   ]
  },
  {
   "cell_type": "markdown",
   "metadata": {},
   "source": [
    "## LASSO SMOTE"
   ]
  },
  {
   "cell_type": "code",
   "execution_count": 21,
   "metadata": {},
   "outputs": [],
   "source": [
    "data = pd.read_csv('nasa_test.csv')\n",
    "data.drop(['Est Dia in KM(max)','Relative Velocity km per sec','Miss Dist.(kilometers)','Orbit Uncertainity',\n",
    "           'Epoch Osculation','Eccentricity','Semi Major Axis','Inclination','Asc Node Longitude','Perihelion Arg',\n",
    "           'Perihelion Time','Mean Anomaly'],axis=1,inplace=True)\n",
    "data.drop(['Mean Motion'],axis=1,inplace=True)"
   ]
  },
  {
   "cell_type": "code",
   "execution_count": 22,
   "metadata": {},
   "outputs": [
    {
     "data": {
      "text/html": [
       "<div>\n",
       "<style scoped>\n",
       "    .dataframe tbody tr th:only-of-type {\n",
       "        vertical-align: middle;\n",
       "    }\n",
       "\n",
       "    .dataframe tbody tr th {\n",
       "        vertical-align: top;\n",
       "    }\n",
       "\n",
       "    .dataframe thead th {\n",
       "        text-align: right;\n",
       "    }\n",
       "</style>\n",
       "<table border=\"1\" class=\"dataframe\">\n",
       "  <thead>\n",
       "    <tr style=\"text-align: right;\">\n",
       "      <th></th>\n",
       "      <th>Absolute Magnitude</th>\n",
       "      <th>Minimum Orbit Intersection</th>\n",
       "      <th>Jupiter Tisserand Invariant</th>\n",
       "      <th>Orbital Period</th>\n",
       "      <th>Perihelion Distance</th>\n",
       "      <th>Aphelion Dist</th>\n",
       "      <th>Hazardous</th>\n",
       "    </tr>\n",
       "  </thead>\n",
       "  <tbody>\n",
       "    <tr>\n",
       "      <th>0</th>\n",
       "      <td>20.4</td>\n",
       "      <td>0.031146</td>\n",
       "      <td>6.867</td>\n",
       "      <td>288.948855</td>\n",
       "      <td>0.690580</td>\n",
       "      <td>1.020137</td>\n",
       "      <td>1</td>\n",
       "    </tr>\n",
       "    <tr>\n",
       "      <th>1</th>\n",
       "      <td>23.6</td>\n",
       "      <td>0.086149</td>\n",
       "      <td>5.954</td>\n",
       "      <td>369.779900</td>\n",
       "      <td>0.883224</td>\n",
       "      <td>1.133252</td>\n",
       "      <td>-1</td>\n",
       "    </tr>\n",
       "    <tr>\n",
       "      <th>2</th>\n",
       "      <td>20.8</td>\n",
       "      <td>0.044154</td>\n",
       "      <td>4.884</td>\n",
       "      <td>555.697196</td>\n",
       "      <td>0.962833</td>\n",
       "      <td>1.682761</td>\n",
       "      <td>1</td>\n",
       "    </tr>\n",
       "    <tr>\n",
       "      <th>3</th>\n",
       "      <td>25.3</td>\n",
       "      <td>0.095969</td>\n",
       "      <td>3.221</td>\n",
       "      <td>1449.839167</td>\n",
       "      <td>1.100599</td>\n",
       "      <td>3.913323</td>\n",
       "      <td>-1</td>\n",
       "    </tr>\n",
       "    <tr>\n",
       "      <th>4</th>\n",
       "      <td>23.4</td>\n",
       "      <td>0.140935</td>\n",
       "      <td>4.367</td>\n",
       "      <td>698.555256</td>\n",
       "      <td>0.999165</td>\n",
       "      <td>2.082354</td>\n",
       "      <td>-1</td>\n",
       "    </tr>\n",
       "    <tr>\n",
       "      <th>...</th>\n",
       "      <td>...</td>\n",
       "      <td>...</td>\n",
       "      <td>...</td>\n",
       "      <td>...</td>\n",
       "      <td>...</td>\n",
       "      <td>...</td>\n",
       "      <td>...</td>\n",
       "    </tr>\n",
       "    <tr>\n",
       "      <th>464</th>\n",
       "      <td>21.7</td>\n",
       "      <td>0.135162</td>\n",
       "      <td>3.567</td>\n",
       "      <td>1136.451278</td>\n",
       "      <td>1.149324</td>\n",
       "      <td>3.113181</td>\n",
       "      <td>-1</td>\n",
       "    </tr>\n",
       "    <tr>\n",
       "      <th>465</th>\n",
       "      <td>20.4</td>\n",
       "      <td>0.034161</td>\n",
       "      <td>3.902</td>\n",
       "      <td>648.726258</td>\n",
       "      <td>0.108481</td>\n",
       "      <td>2.824699</td>\n",
       "      <td>1</td>\n",
       "    </tr>\n",
       "    <tr>\n",
       "      <th>466</th>\n",
       "      <td>25.6</td>\n",
       "      <td>0.013373</td>\n",
       "      <td>5.527</td>\n",
       "      <td>436.665711</td>\n",
       "      <td>0.991296</td>\n",
       "      <td>1.261545</td>\n",
       "      <td>-1</td>\n",
       "    </tr>\n",
       "    <tr>\n",
       "      <th>467</th>\n",
       "      <td>19.7</td>\n",
       "      <td>0.196366</td>\n",
       "      <td>7.953</td>\n",
       "      <td>218.584650</td>\n",
       "      <td>0.362727</td>\n",
       "      <td>1.057565</td>\n",
       "      <td>-1</td>\n",
       "    </tr>\n",
       "    <tr>\n",
       "      <th>468</th>\n",
       "      <td>22.8</td>\n",
       "      <td>0.036478</td>\n",
       "      <td>7.199</td>\n",
       "      <td>263.824771</td>\n",
       "      <td>0.526802</td>\n",
       "      <td>1.083256</td>\n",
       "      <td>-1</td>\n",
       "    </tr>\n",
       "  </tbody>\n",
       "</table>\n",
       "<p>469 rows × 7 columns</p>\n",
       "</div>"
      ],
      "text/plain": [
       "     Absolute Magnitude  Minimum Orbit Intersection  \\\n",
       "0                  20.4                    0.031146   \n",
       "1                  23.6                    0.086149   \n",
       "2                  20.8                    0.044154   \n",
       "3                  25.3                    0.095969   \n",
       "4                  23.4                    0.140935   \n",
       "..                  ...                         ...   \n",
       "464                21.7                    0.135162   \n",
       "465                20.4                    0.034161   \n",
       "466                25.6                    0.013373   \n",
       "467                19.7                    0.196366   \n",
       "468                22.8                    0.036478   \n",
       "\n",
       "     Jupiter Tisserand Invariant  Orbital Period  Perihelion Distance  \\\n",
       "0                          6.867      288.948855             0.690580   \n",
       "1                          5.954      369.779900             0.883224   \n",
       "2                          4.884      555.697196             0.962833   \n",
       "3                          3.221     1449.839167             1.100599   \n",
       "4                          4.367      698.555256             0.999165   \n",
       "..                           ...             ...                  ...   \n",
       "464                        3.567     1136.451278             1.149324   \n",
       "465                        3.902      648.726258             0.108481   \n",
       "466                        5.527      436.665711             0.991296   \n",
       "467                        7.953      218.584650             0.362727   \n",
       "468                        7.199      263.824771             0.526802   \n",
       "\n",
       "     Aphelion Dist  Hazardous  \n",
       "0         1.020137          1  \n",
       "1         1.133252         -1  \n",
       "2         1.682761          1  \n",
       "3         3.913323         -1  \n",
       "4         2.082354         -1  \n",
       "..             ...        ...  \n",
       "464       3.113181         -1  \n",
       "465       2.824699          1  \n",
       "466       1.261545         -1  \n",
       "467       1.057565         -1  \n",
       "468       1.083256         -1  \n",
       "\n",
       "[469 rows x 7 columns]"
      ]
     },
     "execution_count": 22,
     "metadata": {},
     "output_type": "execute_result"
    }
   ],
   "source": [
    "data"
   ]
  },
  {
   "cell_type": "code",
   "execution_count": 23,
   "metadata": {},
   "outputs": [],
   "source": [
    "y = data.Hazardous.values.reshape(-1,1)\n",
    "X_unscaled = data.drop(['Hazardous'],axis=1).values\n",
    "X_scale = np.array([32.1,0.477891,9.025,4172.23134,1.29983165,8.98385155])\n",
    "X = np.divide(X_unscaled,X_scale)"
   ]
  },
  {
   "cell_type": "code",
   "execution_count": 24,
   "metadata": {},
   "outputs": [
    {
     "data": {
      "text/latex": [
       "$\\displaystyle \\left[\\begin{matrix}-4.9\\\\-3.8\\\\2.6\\\\-15.2\\\\2.3\\\\14.7\\end{matrix}\\right]$"
      ],
      "text/plain": [
       "Matrix([\n",
       "[ -4.9],\n",
       "[ -3.8],\n",
       "[  2.6],\n",
       "[-15.2],\n",
       "[  2.3],\n",
       "[ 14.7]])"
      ]
     },
     "metadata": {},
     "output_type": "display_data"
    }
   ],
   "source": [
    "w_LASSO = np.array([-4.85650151,-3.83907764,2.60652119,-15.1986243,2.2952872,14.65899485])\n",
    "display(Matrix(np.round(w_LASSO,1)))"
   ]
  },
  {
   "cell_type": "code",
   "execution_count": 25,
   "metadata": {},
   "outputs": [
    {
     "name": "stdout",
     "output_type": "stream",
     "text": [
      "The error using LASSO is 19.6 %\n"
     ]
    }
   ],
   "source": [
    "yhat_LASSO = np.reshape(np.sign(X@w_LASSO),y.shape)\n",
    "error_LASSO = np.count_nonzero(y - yhat_LASSO) / len(y)\n",
    "print('The error using LASSO is',np.round(error_LASSO*100,1),'%')"
   ]
  },
  {
   "cell_type": "code",
   "execution_count": 26,
   "metadata": {},
   "outputs": [
    {
     "data": {
      "text/latex": [
       "$\\displaystyle \\left[\\begin{matrix}100.0 & 23.3\\\\0.0 & 76.7\\end{matrix}\\right]$"
      ],
      "text/plain": [
       "Matrix([\n",
       "[100.0, 23.3],\n",
       "[  0.0, 76.7]])"
      ]
     },
     "metadata": {},
     "output_type": "display_data"
    }
   ],
   "source": [
    "mat_LASSO = prec_mat(y,yhat_LASSO)\n",
    "display(Matrix(np.round(mat_LASSO*100,1)))"
   ]
  },
  {
   "cell_type": "markdown",
   "metadata": {},
   "source": [
    "## Neural Network"
   ]
  },
  {
   "cell_type": "code",
   "execution_count": null,
   "metadata": {},
   "outputs": [],
   "source": []
  }
 ],
 "metadata": {
  "kernelspec": {
   "display_name": "Python 3",
   "language": "python",
   "name": "python3"
  },
  "language_info": {
   "codemirror_mode": {
    "name": "ipython",
    "version": 3
   },
   "file_extension": ".py",
   "mimetype": "text/x-python",
   "name": "python",
   "nbconvert_exporter": "python",
   "pygments_lexer": "ipython3",
   "version": "3.8.5"
  }
 },
 "nbformat": 4,
 "nbformat_minor": 4
}
