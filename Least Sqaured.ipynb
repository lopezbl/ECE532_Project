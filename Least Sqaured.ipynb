{
 "cells": [
  {
   "cell_type": "markdown",
   "metadata": {},
   "source": [
    "# Least Squared Algorithm"
   ]
  },
  {
   "cell_type": "code",
   "execution_count": 1,
   "metadata": {},
   "outputs": [],
   "source": [
    "import numpy as np\n",
    "import matplotlib.pyplot as plt\n",
    "import copy\n",
    "from sympy import Matrix\n",
    "from IPython.display import display, Math\n",
    "import pandas as pd\n",
    "from sklearn.preprocessing import MinMaxScaler\n",
    "scaled = MinMaxScaler()"
   ]
  },
  {
   "cell_type": "code",
   "execution_count": 2,
   "metadata": {},
   "outputs": [],
   "source": [
    "def error_frac(X_train,y_train,X_eval,y_eval):\n",
    "    \n",
    "    w = np.linalg.inv(X_train.T@X_train)@X_train.T@y_train\n",
    "    y_hat = np.sign(X_eval@w)\n",
    "    error = np.count_nonzero(y_eval-y_hat)/len(y_eval)\n",
    "    \n",
    "    return error\n",
    "\n",
    "def cross_val(X,y,splits):\n",
    "\n",
    "    error = np.zeros(splits)\n",
    "\n",
    "    X_splits = np.array_split(X,splits)\n",
    "    y_splits = np.array_split(y,splits)\n",
    "\n",
    "    for j in range(splits):\n",
    "        X_eval_split = X_splits[j]\n",
    "        y_eval_split = y_splits[j]\n",
    "        X_train_split = np.concatenate(np.delete(X_splits,j,0))\n",
    "        y_train_split = np.concatenate(np.delete(y_splits,j,0))\n",
    "        error[j] = error_frac(X_train_split,y_train_split,X_eval_split,y_eval_split)\n",
    "\n",
    "    avg_error = np.mean(error)\n",
    "    \n",
    "    return avg_error\n",
    "\n",
    "splits = 10"
   ]
  },
  {
   "cell_type": "markdown",
   "metadata": {},
   "source": [
    "## Load and Process Data"
   ]
  },
  {
   "cell_type": "code",
   "execution_count": 4,
   "metadata": {},
   "outputs": [],
   "source": [
    "data = pd.read_csv('nasa_sort.csv')"
   ]
  },
  {
   "cell_type": "markdown",
   "metadata": {},
   "source": [
    "### Scale and Randomize Features"
   ]
  },
  {
   "cell_type": "code",
   "execution_count": 5,
   "metadata": {},
   "outputs": [],
   "source": [
    "y = data.Hazardous.values.reshape(-1,1)\n",
    "X = data.drop(['Hazardous'],axis=1).values\n",
    "X = scaled.fit_transform(X)"
   ]
  },
  {
   "cell_type": "code",
   "execution_count": 6,
   "metadata": {},
   "outputs": [
    {
     "data": {
      "text/html": [
       "<div>\n",
       "<style scoped>\n",
       "    .dataframe tbody tr th:only-of-type {\n",
       "        vertical-align: middle;\n",
       "    }\n",
       "\n",
       "    .dataframe tbody tr th {\n",
       "        vertical-align: top;\n",
       "    }\n",
       "\n",
       "    .dataframe thead th {\n",
       "        text-align: right;\n",
       "    }\n",
       "</style>\n",
       "<table border=\"1\" class=\"dataframe\">\n",
       "  <thead>\n",
       "    <tr style=\"text-align: right;\">\n",
       "      <th></th>\n",
       "      <th>Absolute Magnitude</th>\n",
       "      <th>Est Dia in KM(max)</th>\n",
       "      <th>Relative Velocity km per sec</th>\n",
       "      <th>Miss Dist.(kilometers)</th>\n",
       "      <th>Orbit Uncertainity</th>\n",
       "      <th>Minimum Orbit Intersection</th>\n",
       "      <th>Jupiter Tisserand Invariant</th>\n",
       "      <th>Epoch Osculation</th>\n",
       "      <th>Eccentricity</th>\n",
       "      <th>Semi Major Axis</th>\n",
       "      <th>Inclination</th>\n",
       "      <th>Asc Node Longitude</th>\n",
       "      <th>Orbital Period</th>\n",
       "      <th>Perihelion Distance</th>\n",
       "      <th>Perihelion Arg</th>\n",
       "      <th>Aphelion Dist</th>\n",
       "      <th>Perihelion Time</th>\n",
       "      <th>Mean Anomaly</th>\n",
       "      <th>Mean Motion</th>\n",
       "      <th>Hazardous</th>\n",
       "    </tr>\n",
       "  </thead>\n",
       "  <tbody>\n",
       "    <tr>\n",
       "      <th>0</th>\n",
       "      <td>21.600</td>\n",
       "      <td>0.284472</td>\n",
       "      <td>6.115834</td>\n",
       "      <td>6.275369e+07</td>\n",
       "      <td>5</td>\n",
       "      <td>0.025282</td>\n",
       "      <td>4.634</td>\n",
       "      <td>2458000.5</td>\n",
       "      <td>0.425549</td>\n",
       "      <td>1.407011</td>\n",
       "      <td>6.025981</td>\n",
       "      <td>314.373913</td>\n",
       "      <td>609.599786</td>\n",
       "      <td>0.808259</td>\n",
       "      <td>57.257470</td>\n",
       "      <td>2.005764</td>\n",
       "      <td>2.458162e+06</td>\n",
       "      <td>264.837533</td>\n",
       "      <td>0.590551</td>\n",
       "      <td>1</td>\n",
       "    </tr>\n",
       "    <tr>\n",
       "      <th>1</th>\n",
       "      <td>21.300</td>\n",
       "      <td>0.326618</td>\n",
       "      <td>18.113985</td>\n",
       "      <td>5.729815e+07</td>\n",
       "      <td>3</td>\n",
       "      <td>0.186935</td>\n",
       "      <td>5.457</td>\n",
       "      <td>2458000.5</td>\n",
       "      <td>0.351674</td>\n",
       "      <td>1.107776</td>\n",
       "      <td>28.412996</td>\n",
       "      <td>136.717242</td>\n",
       "      <td>425.869294</td>\n",
       "      <td>0.718200</td>\n",
       "      <td>313.091975</td>\n",
       "      <td>1.497352</td>\n",
       "      <td>2.457795e+06</td>\n",
       "      <td>173.741112</td>\n",
       "      <td>0.845330</td>\n",
       "      <td>-1</td>\n",
       "    </tr>\n",
       "    <tr>\n",
       "      <th>2</th>\n",
       "      <td>20.300</td>\n",
       "      <td>0.517654</td>\n",
       "      <td>7.590711</td>\n",
       "      <td>7.622912e+06</td>\n",
       "      <td>0</td>\n",
       "      <td>0.043058</td>\n",
       "      <td>4.557</td>\n",
       "      <td>2458000.5</td>\n",
       "      <td>0.348248</td>\n",
       "      <td>1.458824</td>\n",
       "      <td>4.237961</td>\n",
       "      <td>259.475979</td>\n",
       "      <td>643.580228</td>\n",
       "      <td>0.950791</td>\n",
       "      <td>248.415038</td>\n",
       "      <td>1.966857</td>\n",
       "      <td>2.458120e+06</td>\n",
       "      <td>292.893654</td>\n",
       "      <td>0.559371</td>\n",
       "      <td>1</td>\n",
       "    </tr>\n",
       "    <tr>\n",
       "      <th>3</th>\n",
       "      <td>27.400</td>\n",
       "      <td>0.019681</td>\n",
       "      <td>11.173874</td>\n",
       "      <td>4.268362e+07</td>\n",
       "      <td>6</td>\n",
       "      <td>0.005512</td>\n",
       "      <td>5.093</td>\n",
       "      <td>2458000.5</td>\n",
       "      <td>0.216578</td>\n",
       "      <td>1.255903</td>\n",
       "      <td>7.905894</td>\n",
       "      <td>57.173266</td>\n",
       "      <td>514.082140</td>\n",
       "      <td>0.983902</td>\n",
       "      <td>18.707701</td>\n",
       "      <td>1.527904</td>\n",
       "      <td>2.457902e+06</td>\n",
       "      <td>68.741007</td>\n",
       "      <td>0.700277</td>\n",
       "      <td>-1</td>\n",
       "    </tr>\n",
       "    <tr>\n",
       "      <th>4</th>\n",
       "      <td>21.600</td>\n",
       "      <td>0.284472</td>\n",
       "      <td>9.840831</td>\n",
       "      <td>6.101082e+07</td>\n",
       "      <td>1</td>\n",
       "      <td>0.034798</td>\n",
       "      <td>5.154</td>\n",
       "      <td>2458000.5</td>\n",
       "      <td>0.210448</td>\n",
       "      <td>1.225615</td>\n",
       "      <td>16.793382</td>\n",
       "      <td>84.629307</td>\n",
       "      <td>495.597821</td>\n",
       "      <td>0.967687</td>\n",
       "      <td>158.263596</td>\n",
       "      <td>1.483543</td>\n",
       "      <td>2.457814e+06</td>\n",
       "      <td>135.142133</td>\n",
       "      <td>0.726395</td>\n",
       "      <td>1</td>\n",
       "    </tr>\n",
       "    <tr>\n",
       "      <th>...</th>\n",
       "      <td>...</td>\n",
       "      <td>...</td>\n",
       "      <td>...</td>\n",
       "      <td>...</td>\n",
       "      <td>...</td>\n",
       "      <td>...</td>\n",
       "      <td>...</td>\n",
       "      <td>...</td>\n",
       "      <td>...</td>\n",
       "      <td>...</td>\n",
       "      <td>...</td>\n",
       "      <td>...</td>\n",
       "      <td>...</td>\n",
       "      <td>...</td>\n",
       "      <td>...</td>\n",
       "      <td>...</td>\n",
       "      <td>...</td>\n",
       "      <td>...</td>\n",
       "      <td>...</td>\n",
       "      <td>...</td>\n",
       "    </tr>\n",
       "    <tr>\n",
       "      <th>4682</th>\n",
       "      <td>23.900</td>\n",
       "      <td>0.098637</td>\n",
       "      <td>22.154265</td>\n",
       "      <td>6.187511e+06</td>\n",
       "      <td>8</td>\n",
       "      <td>0.019777</td>\n",
       "      <td>5.156</td>\n",
       "      <td>2457637.5</td>\n",
       "      <td>0.361512</td>\n",
       "      <td>1.161429</td>\n",
       "      <td>39.880491</td>\n",
       "      <td>164.183305</td>\n",
       "      <td>457.179984</td>\n",
       "      <td>0.741558</td>\n",
       "      <td>276.395697</td>\n",
       "      <td>1.581299</td>\n",
       "      <td>2.457708e+06</td>\n",
       "      <td>304.306025</td>\n",
       "      <td>0.787436</td>\n",
       "      <td>-1</td>\n",
       "    </tr>\n",
       "    <tr>\n",
       "      <th>4683</th>\n",
       "      <td>28.200</td>\n",
       "      <td>0.013616</td>\n",
       "      <td>3.225150</td>\n",
       "      <td>9.677324e+05</td>\n",
       "      <td>6</td>\n",
       "      <td>0.006451</td>\n",
       "      <td>5.742</td>\n",
       "      <td>2458000.5</td>\n",
       "      <td>0.073200</td>\n",
       "      <td>1.075134</td>\n",
       "      <td>5.360249</td>\n",
       "      <td>345.225230</td>\n",
       "      <td>407.185767</td>\n",
       "      <td>0.996434</td>\n",
       "      <td>42.111064</td>\n",
       "      <td>1.153835</td>\n",
       "      <td>2.458088e+06</td>\n",
       "      <td>282.978786</td>\n",
       "      <td>0.884117</td>\n",
       "      <td>-1</td>\n",
       "    </tr>\n",
       "    <tr>\n",
       "      <th>4684</th>\n",
       "      <td>22.700</td>\n",
       "      <td>0.171412</td>\n",
       "      <td>7.191642</td>\n",
       "      <td>9.126775e+06</td>\n",
       "      <td>6</td>\n",
       "      <td>0.059973</td>\n",
       "      <td>4.410</td>\n",
       "      <td>2458000.5</td>\n",
       "      <td>0.368055</td>\n",
       "      <td>1.528234</td>\n",
       "      <td>4.405467</td>\n",
       "      <td>37.026468</td>\n",
       "      <td>690.054279</td>\n",
       "      <td>0.965760</td>\n",
       "      <td>274.692712</td>\n",
       "      <td>2.090708</td>\n",
       "      <td>2.458300e+06</td>\n",
       "      <td>203.501147</td>\n",
       "      <td>0.521698</td>\n",
       "      <td>-1</td>\n",
       "    </tr>\n",
       "    <tr>\n",
       "      <th>4685</th>\n",
       "      <td>21.800</td>\n",
       "      <td>0.259442</td>\n",
       "      <td>11.352090</td>\n",
       "      <td>3.900908e+07</td>\n",
       "      <td>5</td>\n",
       "      <td>0.177510</td>\n",
       "      <td>4.477</td>\n",
       "      <td>2458000.5</td>\n",
       "      <td>0.202565</td>\n",
       "      <td>1.486600</td>\n",
       "      <td>21.080244</td>\n",
       "      <td>163.802910</td>\n",
       "      <td>662.048343</td>\n",
       "      <td>1.185467</td>\n",
       "      <td>180.346090</td>\n",
       "      <td>1.787733</td>\n",
       "      <td>2.458288e+06</td>\n",
       "      <td>203.524965</td>\n",
       "      <td>0.543767</td>\n",
       "      <td>-1</td>\n",
       "    </tr>\n",
       "    <tr>\n",
       "      <th>4686</th>\n",
       "      <td>19.109</td>\n",
       "      <td>0.895860</td>\n",
       "      <td>35.946852</td>\n",
       "      <td>6.916986e+07</td>\n",
       "      <td>6</td>\n",
       "      <td>0.051777</td>\n",
       "      <td>4.108</td>\n",
       "      <td>2458000.5</td>\n",
       "      <td>0.405642</td>\n",
       "      <td>1.474045</td>\n",
       "      <td>53.574923</td>\n",
       "      <td>187.642183</td>\n",
       "      <td>653.679098</td>\n",
       "      <td>0.876110</td>\n",
       "      <td>222.436688</td>\n",
       "      <td>2.071980</td>\n",
       "      <td>2.458319e+06</td>\n",
       "      <td>184.820424</td>\n",
       "      <td>0.550729</td>\n",
       "      <td>-1</td>\n",
       "    </tr>\n",
       "  </tbody>\n",
       "</table>\n",
       "<p>4687 rows × 20 columns</p>\n",
       "</div>"
      ],
      "text/plain": [
       "      Absolute Magnitude  Est Dia in KM(max)  Relative Velocity km per sec  \\\n",
       "0                 21.600            0.284472                      6.115834   \n",
       "1                 21.300            0.326618                     18.113985   \n",
       "2                 20.300            0.517654                      7.590711   \n",
       "3                 27.400            0.019681                     11.173874   \n",
       "4                 21.600            0.284472                      9.840831   \n",
       "...                  ...                 ...                           ...   \n",
       "4682              23.900            0.098637                     22.154265   \n",
       "4683              28.200            0.013616                      3.225150   \n",
       "4684              22.700            0.171412                      7.191642   \n",
       "4685              21.800            0.259442                     11.352090   \n",
       "4686              19.109            0.895860                     35.946852   \n",
       "\n",
       "      Miss Dist.(kilometers)  Orbit Uncertainity  Minimum Orbit Intersection  \\\n",
       "0               6.275369e+07                   5                    0.025282   \n",
       "1               5.729815e+07                   3                    0.186935   \n",
       "2               7.622912e+06                   0                    0.043058   \n",
       "3               4.268362e+07                   6                    0.005512   \n",
       "4               6.101082e+07                   1                    0.034798   \n",
       "...                      ...                 ...                         ...   \n",
       "4682            6.187511e+06                   8                    0.019777   \n",
       "4683            9.677324e+05                   6                    0.006451   \n",
       "4684            9.126775e+06                   6                    0.059973   \n",
       "4685            3.900908e+07                   5                    0.177510   \n",
       "4686            6.916986e+07                   6                    0.051777   \n",
       "\n",
       "      Jupiter Tisserand Invariant  Epoch Osculation  Eccentricity  \\\n",
       "0                           4.634         2458000.5      0.425549   \n",
       "1                           5.457         2458000.5      0.351674   \n",
       "2                           4.557         2458000.5      0.348248   \n",
       "3                           5.093         2458000.5      0.216578   \n",
       "4                           5.154         2458000.5      0.210448   \n",
       "...                           ...               ...           ...   \n",
       "4682                        5.156         2457637.5      0.361512   \n",
       "4683                        5.742         2458000.5      0.073200   \n",
       "4684                        4.410         2458000.5      0.368055   \n",
       "4685                        4.477         2458000.5      0.202565   \n",
       "4686                        4.108         2458000.5      0.405642   \n",
       "\n",
       "      Semi Major Axis  Inclination  Asc Node Longitude  Orbital Period  \\\n",
       "0            1.407011     6.025981          314.373913      609.599786   \n",
       "1            1.107776    28.412996          136.717242      425.869294   \n",
       "2            1.458824     4.237961          259.475979      643.580228   \n",
       "3            1.255903     7.905894           57.173266      514.082140   \n",
       "4            1.225615    16.793382           84.629307      495.597821   \n",
       "...               ...          ...                 ...             ...   \n",
       "4682         1.161429    39.880491          164.183305      457.179984   \n",
       "4683         1.075134     5.360249          345.225230      407.185767   \n",
       "4684         1.528234     4.405467           37.026468      690.054279   \n",
       "4685         1.486600    21.080244          163.802910      662.048343   \n",
       "4686         1.474045    53.574923          187.642183      653.679098   \n",
       "\n",
       "      Perihelion Distance  Perihelion Arg  Aphelion Dist  Perihelion Time  \\\n",
       "0                0.808259       57.257470       2.005764     2.458162e+06   \n",
       "1                0.718200      313.091975       1.497352     2.457795e+06   \n",
       "2                0.950791      248.415038       1.966857     2.458120e+06   \n",
       "3                0.983902       18.707701       1.527904     2.457902e+06   \n",
       "4                0.967687      158.263596       1.483543     2.457814e+06   \n",
       "...                   ...             ...            ...              ...   \n",
       "4682             0.741558      276.395697       1.581299     2.457708e+06   \n",
       "4683             0.996434       42.111064       1.153835     2.458088e+06   \n",
       "4684             0.965760      274.692712       2.090708     2.458300e+06   \n",
       "4685             1.185467      180.346090       1.787733     2.458288e+06   \n",
       "4686             0.876110      222.436688       2.071980     2.458319e+06   \n",
       "\n",
       "      Mean Anomaly  Mean Motion  Hazardous  \n",
       "0       264.837533     0.590551          1  \n",
       "1       173.741112     0.845330         -1  \n",
       "2       292.893654     0.559371          1  \n",
       "3        68.741007     0.700277         -1  \n",
       "4       135.142133     0.726395          1  \n",
       "...            ...          ...        ...  \n",
       "4682    304.306025     0.787436         -1  \n",
       "4683    282.978786     0.884117         -1  \n",
       "4684    203.501147     0.521698         -1  \n",
       "4685    203.524965     0.543767         -1  \n",
       "4686    184.820424     0.550729         -1  \n",
       "\n",
       "[4687 rows x 20 columns]"
      ]
     },
     "execution_count": 6,
     "metadata": {},
     "output_type": "execute_result"
    }
   ],
   "source": [
    "data"
   ]
  },
  {
   "cell_type": "markdown",
   "metadata": {},
   "source": [
    "## All Feature Least Squared"
   ]
  },
  {
   "cell_type": "markdown",
   "metadata": {},
   "source": [
    "### Without Cross Validation"
   ]
  },
  {
   "cell_type": "code",
   "execution_count": 7,
   "metadata": {},
   "outputs": [
    {
     "data": {
      "text/latex": [
       "$\\displaystyle \\left[\\begin{matrix}-3.068\\\\-4.452\\\\-0.002\\\\0.1\\\\-0.323\\\\-2.41\\\\-5.474\\\\0.55\\\\0.584\\\\-74.559\\\\-0.311\\\\0.028\\\\7.662\\\\9.807\\\\0.01\\\\60.012\\\\-0.748\\\\0.061\\\\4.069\\end{matrix}\\right]$"
      ],
      "text/plain": [
       "Matrix([\n",
       "[ -3.068],\n",
       "[ -4.452],\n",
       "[ -0.002],\n",
       "[    0.1],\n",
       "[ -0.323],\n",
       "[  -2.41],\n",
       "[ -5.474],\n",
       "[   0.55],\n",
       "[  0.584],\n",
       "[-74.559],\n",
       "[ -0.311],\n",
       "[  0.028],\n",
       "[  7.662],\n",
       "[  9.807],\n",
       "[   0.01],\n",
       "[ 60.012],\n",
       "[ -0.748],\n",
       "[  0.061],\n",
       "[  4.069]])"
      ]
     },
     "metadata": {},
     "output_type": "display_data"
    }
   ],
   "source": [
    "w = np.linalg.inv(X.T@X)@X.T@y\n",
    "display(Matrix(np.round(w,3)))"
   ]
  },
  {
   "cell_type": "code",
   "execution_count": 8,
   "metadata": {},
   "outputs": [
    {
     "name": "stdout",
     "output_type": "stream",
     "text": [
      "The error using all features without cross validation is 9.17 %\n"
     ]
    }
   ],
   "source": [
    "yhat = np.sign(X@w)\n",
    "err = y - yhat\n",
    "error = np.count_nonzero(err)/len(err)\n",
    "print('The error using all features without cross validation is',np.round(error*100,2),'%')"
   ]
  },
  {
   "cell_type": "markdown",
   "metadata": {},
   "source": [
    "### With Cross Validation"
   ]
  },
  {
   "cell_type": "code",
   "execution_count": 10,
   "metadata": {},
   "outputs": [
    {
     "name": "stdout",
     "output_type": "stream",
     "text": [
      "The expected error of the all feature model is 9.39 %\n"
     ]
    }
   ],
   "source": [
    "avg_error = cross_val(X,y,splits)\n",
    "\n",
    "print('The expected error of the all feature model is', np.round(avg_error*100,2), '%')"
   ]
  },
  {
   "cell_type": "markdown",
   "metadata": {},
   "source": [
    "## Feature Selection with Least Sqaured"
   ]
  },
  {
   "cell_type": "markdown",
   "metadata": {},
   "source": [
    "### Visualization"
   ]
  },
  {
   "cell_type": "code",
   "execution_count": null,
   "metadata": {},
   "outputs": [],
   "source": [
    "fig = plt.figure(figsize=(40,40))\n",
    "\n",
    "k = 1\n",
    "\n",
    "ycolors = ['r' if value > 0 else 'b' for value in y]\n",
    "\n",
    "for i in range(X.shape[1]):\n",
    "    for j in range(X.shape[1]):\n",
    "        fig.add_subplot(X.shape[1],X.shape[1], k)\n",
    "        plt.scatter(X[:,i],X[:,j],color=ycolors, marker='o', alpha=0.05)\n",
    "        plt.gca().axes.get_yaxis().set_visible(False)\n",
    "        plt.gca().axes.get_xaxis().set_visible(False)\n",
    "        k = k + 1"
   ]
  },
  {
   "cell_type": "markdown",
   "metadata": {},
   "source": [
    "### Initial Guess"
   ]
  },
  {
   "cell_type": "markdown",
   "metadata": {},
   "source": [
    "Two sets of interactions pictured above really stand out for their strong sorting"
   ]
  },
  {
   "cell_type": "code",
   "execution_count": null,
   "metadata": {},
   "outputs": [],
   "source": [
    "plt.figure(figsize=(8,8))\n",
    "plt.rc('font', size=12)\n",
    "ycolors = ['r' if value > 0 else 'b' for value in y]\n",
    "plt.scatter(X[:,0],X[:,5],color=ycolors, marker='o', alpha=0.1)\n",
    "plt.xlabel('Scaled Absolute Magnitude',fontsize=14)\n",
    "plt.ylabel('Scaled Minimum Orbit Intersection',fontsize=14)\n",
    "plt.show()\n",
    "\n",
    "plt.figure(figsize=(8,8))\n",
    "plt.rc('font', size=12)\n",
    "ycolors = ['r' if value > 0 else 'b' for value in y]\n",
    "plt.scatter(X[:,1],X[:,5],color=ycolors, marker='o', alpha=0.1)\n",
    "plt.xlabel('Scaled Absolute Magnitude',fontsize=14)\n",
    "plt.ylabel('Scaled Max Estimated Diameter',fontsize=14)\n",
    "plt.show()"
   ]
  },
  {
   "cell_type": "markdown",
   "metadata": {},
   "source": [
    "A model will be built off of these three features"
   ]
  },
  {
   "cell_type": "code",
   "execution_count": null,
   "metadata": {},
   "outputs": [],
   "source": [
    "delete_feat = np.delete(np.arange(X.shape[1]),[0,1])\n",
    "X_3 = np.delete(X,delete_feat,axis=1)"
   ]
  },
  {
   "cell_type": "code",
   "execution_count": null,
   "metadata": {},
   "outputs": [],
   "source": [
    "avg_error = cross_val(X_3,y,splits) \n",
    "\n",
    "print('The expected error of this three feature model is', np.round(avg_error*100,2), '%')"
   ]
  },
  {
   "cell_type": "markdown",
   "metadata": {},
   "source": [
    "This error is a lot higher than the all feature model, so more a rigorous method will be used"
   ]
  },
  {
   "cell_type": "markdown",
   "metadata": {},
   "source": [
    "### Ranking Features"
   ]
  },
  {
   "cell_type": "code",
   "execution_count": 12,
   "metadata": {},
   "outputs": [
    {
     "name": "stdout",
     "output_type": "stream",
     "text": [
      "Ranked Features: [15 13  5  0  9  1  4 11  8 10 16  3 12 18  6 14  7  2 17]\n"
     ]
    }
   ],
   "source": [
    "least_feat = np.zeros(X.shape[1],dtype=int)\n",
    "\n",
    "X_del = copy.copy(X)\n",
    "\n",
    "for k in range(X.shape[1]):\n",
    "\n",
    "    avg_error = np.zeros(X_del.shape[1])\n",
    "    \n",
    "    for i in range(X_del.shape[1]):\n",
    "\n",
    "        X_del_1 = np.delete(X_del,i,axis=1)\n",
    "\n",
    "        avg_error[i] = cross_val(X_del_1,y,splits)\n",
    "\n",
    "    least_feat[k] = np.argmin(avg_error)\n",
    "    \n",
    "    X_del = np.delete(X_del,least_feat[k],axis=1)\n",
    "\n",
    "least_feat = least_feat.tolist()\n",
    "\n",
    "least_feat_sort = np.zeros(len(least_feat),dtype=int)\n",
    "least_feat_sort = least_feat_sort.tolist()\n",
    "\n",
    "least_feat_sort[0] = least_feat[0]  \n",
    "\n",
    "all_int = list(range(0, 19))\n",
    "\n",
    "all_int.remove(least_feat_sort[0])\n",
    "    \n",
    "for i in range(1,len(least_feat)):\n",
    "    \n",
    "    least_feat_sort[i] = all_int[least_feat[i]]\n",
    "    all_int.pop(least_feat[i])\n",
    "    \n",
    "best_feat = np.flip(np.array(least_feat_sort))\n",
    "print('Ranked Features:', best_feat)"
   ]
  },
  {
   "cell_type": "code",
   "execution_count": 13,
   "metadata": {},
   "outputs": [],
   "source": [
    "avg_error = np.zeros(X.shape[1])\n",
    "\n",
    "for i in range(len(best_feat)):\n",
    "    \n",
    "    delete_feat = np.delete(np.arange(X.shape[1]),best_feat[0:i+1])\n",
    "    X_del = np.delete(X,delete_feat,axis=1)\n",
    "        \n",
    "    avg_error[i] = cross_val(X_del,y,splits)\n",
    "\n",
    "best_comb = np.argmin(avg_error)"
   ]
  },
  {
   "cell_type": "code",
   "execution_count": 14,
   "metadata": {},
   "outputs": [
    {
     "data": {
      "image/png": "[encoded data removed]",
      "text/plain": [
       "<Figure size 576x576 with 1 Axes>"
      ]
     },
     "metadata": {
      "needs_background": "light"
     },
     "output_type": "display_data"
    }
   ],
   "source": [
    "plt.figure(figsize=(8,8))\n",
    "plt.rc('font', size=12)\n",
    "plt.scatter(np.arange(0,19)+1,avg_error*100,color='k', marker='o', alpha=1)\n",
    "plt.scatter(best_comb+1,avg_error[best_comb]*100,color='b', marker='o', alpha=1,label='Lowest Estimated Error')\n",
    "plt.xlabel('Number of Ranked Features Used',fontsize=14)\n",
    "plt.xticks(np.arange(0,19)+1)\n",
    "plt.ylabel('Predicted Error [%]',fontsize=14)\n",
    "plt.legend(fontsize=12)\n",
    "plt.show()"
   ]
  },
  {
   "cell_type": "markdown",
   "metadata": {},
   "source": [
    "Looking at the graph above, the lowest error occurs using the 11 most imporartant features.\n",
    "However, using just 7 of the most important features provides a comparable error."
   ]
  },
  {
   "cell_type": "markdown",
   "metadata": {},
   "source": [
    "## Final Training"
   ]
  },
  {
   "cell_type": "code",
   "execution_count": 15,
   "metadata": {},
   "outputs": [],
   "source": [
    "data.drop(['Relative Velocity km per sec','Miss Dist.(kilometers)','Jupiter Tisserand Invariant','Epoch Osculation',\n",
    "           'Eccentricity','Inclination','Asc Node Longitude','Orbital Period','Perihelion Arg','Perihelion Time','Mean Anomaly',\n",
    "           'Mean Motion'],axis=1,inplace=True)"
   ]
  },
  {
   "cell_type": "code",
   "execution_count": 16,
   "metadata": {},
   "outputs": [],
   "source": [
    "scaled = MinMaxScaler()\n",
    "y = data.Hazardous.values.reshape(-1,1)\n",
    "X_final = data.drop(['Hazardous'],axis=1).values\n",
    "X_final = scaled.fit_transform(X_final)"
   ]
  },
  {
   "cell_type": "code",
   "execution_count": 17,
   "metadata": {},
   "outputs": [
    {
     "data": {
      "text/html": [
       "<div>\n",
       "<style scoped>\n",
       "    .dataframe tbody tr th:only-of-type {\n",
       "        vertical-align: middle;\n",
       "    }\n",
       "\n",
       "    .dataframe tbody tr th {\n",
       "        vertical-align: top;\n",
       "    }\n",
       "\n",
       "    .dataframe thead th {\n",
       "        text-align: right;\n",
       "    }\n",
       "</style>\n",
       "<table border=\"1\" class=\"dataframe\">\n",
       "  <thead>\n",
       "    <tr style=\"text-align: right;\">\n",
       "      <th></th>\n",
       "      <th>Absolute Magnitude</th>\n",
       "      <th>Est Dia in KM(max)</th>\n",
       "      <th>Orbit Uncertainity</th>\n",
       "      <th>Minimum Orbit Intersection</th>\n",
       "      <th>Semi Major Axis</th>\n",
       "      <th>Perihelion Distance</th>\n",
       "      <th>Aphelion Dist</th>\n",
       "      <th>Hazardous</th>\n",
       "    </tr>\n",
       "  </thead>\n",
       "  <tbody>\n",
       "    <tr>\n",
       "      <th>0</th>\n",
       "      <td>21.600</td>\n",
       "      <td>0.284472</td>\n",
       "      <td>5</td>\n",
       "      <td>0.025282</td>\n",
       "      <td>1.407011</td>\n",
       "      <td>0.808259</td>\n",
       "      <td>2.005764</td>\n",
       "      <td>1</td>\n",
       "    </tr>\n",
       "    <tr>\n",
       "      <th>1</th>\n",
       "      <td>21.300</td>\n",
       "      <td>0.326618</td>\n",
       "      <td>3</td>\n",
       "      <td>0.186935</td>\n",
       "      <td>1.107776</td>\n",
       "      <td>0.718200</td>\n",
       "      <td>1.497352</td>\n",
       "      <td>-1</td>\n",
       "    </tr>\n",
       "    <tr>\n",
       "      <th>2</th>\n",
       "      <td>20.300</td>\n",
       "      <td>0.517654</td>\n",
       "      <td>0</td>\n",
       "      <td>0.043058</td>\n",
       "      <td>1.458824</td>\n",
       "      <td>0.950791</td>\n",
       "      <td>1.966857</td>\n",
       "      <td>1</td>\n",
       "    </tr>\n",
       "    <tr>\n",
       "      <th>3</th>\n",
       "      <td>27.400</td>\n",
       "      <td>0.019681</td>\n",
       "      <td>6</td>\n",
       "      <td>0.005512</td>\n",
       "      <td>1.255903</td>\n",
       "      <td>0.983902</td>\n",
       "      <td>1.527904</td>\n",
       "      <td>-1</td>\n",
       "    </tr>\n",
       "    <tr>\n",
       "      <th>4</th>\n",
       "      <td>21.600</td>\n",
       "      <td>0.284472</td>\n",
       "      <td>1</td>\n",
       "      <td>0.034798</td>\n",
       "      <td>1.225615</td>\n",
       "      <td>0.967687</td>\n",
       "      <td>1.483543</td>\n",
       "      <td>1</td>\n",
       "    </tr>\n",
       "    <tr>\n",
       "      <th>...</th>\n",
       "      <td>...</td>\n",
       "      <td>...</td>\n",
       "      <td>...</td>\n",
       "      <td>...</td>\n",
       "      <td>...</td>\n",
       "      <td>...</td>\n",
       "      <td>...</td>\n",
       "      <td>...</td>\n",
       "    </tr>\n",
       "    <tr>\n",
       "      <th>4682</th>\n",
       "      <td>23.900</td>\n",
       "      <td>0.098637</td>\n",
       "      <td>8</td>\n",
       "      <td>0.019777</td>\n",
       "      <td>1.161429</td>\n",
       "      <td>0.741558</td>\n",
       "      <td>1.581299</td>\n",
       "      <td>-1</td>\n",
       "    </tr>\n",
       "    <tr>\n",
       "      <th>4683</th>\n",
       "      <td>28.200</td>\n",
       "      <td>0.013616</td>\n",
       "      <td>6</td>\n",
       "      <td>0.006451</td>\n",
       "      <td>1.075134</td>\n",
       "      <td>0.996434</td>\n",
       "      <td>1.153835</td>\n",
       "      <td>-1</td>\n",
       "    </tr>\n",
       "    <tr>\n",
       "      <th>4684</th>\n",
       "      <td>22.700</td>\n",
       "      <td>0.171412</td>\n",
       "      <td>6</td>\n",
       "      <td>0.059973</td>\n",
       "      <td>1.528234</td>\n",
       "      <td>0.965760</td>\n",
       "      <td>2.090708</td>\n",
       "      <td>-1</td>\n",
       "    </tr>\n",
       "    <tr>\n",
       "      <th>4685</th>\n",
       "      <td>21.800</td>\n",
       "      <td>0.259442</td>\n",
       "      <td>5</td>\n",
       "      <td>0.177510</td>\n",
       "      <td>1.486600</td>\n",
       "      <td>1.185467</td>\n",
       "      <td>1.787733</td>\n",
       "      <td>-1</td>\n",
       "    </tr>\n",
       "    <tr>\n",
       "      <th>4686</th>\n",
       "      <td>19.109</td>\n",
       "      <td>0.895860</td>\n",
       "      <td>6</td>\n",
       "      <td>0.051777</td>\n",
       "      <td>1.474045</td>\n",
       "      <td>0.876110</td>\n",
       "      <td>2.071980</td>\n",
       "      <td>-1</td>\n",
       "    </tr>\n",
       "  </tbody>\n",
       "</table>\n",
       "<p>4687 rows × 8 columns</p>\n",
       "</div>"
      ],
      "text/plain": [
       "      Absolute Magnitude  Est Dia in KM(max)  Orbit Uncertainity  \\\n",
       "0                 21.600            0.284472                   5   \n",
       "1                 21.300            0.326618                   3   \n",
       "2                 20.300            0.517654                   0   \n",
       "3                 27.400            0.019681                   6   \n",
       "4                 21.600            0.284472                   1   \n",
       "...                  ...                 ...                 ...   \n",
       "4682              23.900            0.098637                   8   \n",
       "4683              28.200            0.013616                   6   \n",
       "4684              22.700            0.171412                   6   \n",
       "4685              21.800            0.259442                   5   \n",
       "4686              19.109            0.895860                   6   \n",
       "\n",
       "      Minimum Orbit Intersection  Semi Major Axis  Perihelion Distance  \\\n",
       "0                       0.025282         1.407011             0.808259   \n",
       "1                       0.186935         1.107776             0.718200   \n",
       "2                       0.043058         1.458824             0.950791   \n",
       "3                       0.005512         1.255903             0.983902   \n",
       "4                       0.034798         1.225615             0.967687   \n",
       "...                          ...              ...                  ...   \n",
       "4682                    0.019777         1.161429             0.741558   \n",
       "4683                    0.006451         1.075134             0.996434   \n",
       "4684                    0.059973         1.528234             0.965760   \n",
       "4685                    0.177510         1.486600             1.185467   \n",
       "4686                    0.051777         1.474045             0.876110   \n",
       "\n",
       "      Aphelion Dist  Hazardous  \n",
       "0          2.005764          1  \n",
       "1          1.497352         -1  \n",
       "2          1.966857          1  \n",
       "3          1.527904         -1  \n",
       "4          1.483543          1  \n",
       "...             ...        ...  \n",
       "4682       1.581299         -1  \n",
       "4683       1.153835         -1  \n",
       "4684       2.090708         -1  \n",
       "4685       1.787733         -1  \n",
       "4686       2.071980         -1  \n",
       "\n",
       "[4687 rows x 8 columns]"
      ]
     },
     "execution_count": 17,
     "metadata": {},
     "output_type": "execute_result"
    }
   ],
   "source": [
    "data"
   ]
  },
  {
   "cell_type": "code",
   "execution_count": 18,
   "metadata": {},
   "outputs": [
    {
     "data": {
      "text/latex": [
       "$\\displaystyle \\left[\\begin{matrix}-3.161\\\\-4.435\\\\-0.314\\\\-2.328\\\\-38.506\\\\5.318\\\\35.686\\end{matrix}\\right]$"
      ],
      "text/plain": [
       "Matrix([\n",
       "[ -3.161],\n",
       "[ -4.435],\n",
       "[ -0.314],\n",
       "[ -2.328],\n",
       "[-38.506],\n",
       "[  5.318],\n",
       "[ 35.686]])"
      ]
     },
     "metadata": {},
     "output_type": "display_data"
    }
   ],
   "source": [
    "w_final = np.linalg.inv(X_final.T@X_final)@X_final.T@y\n",
    "display(Matrix(np.round(w_final,3)))"
   ]
  },
  {
   "cell_type": "code",
   "execution_count": 19,
   "metadata": {},
   "outputs": [
    {
     "name": "stdout",
     "output_type": "stream",
     "text": [
      "The error using the 7 most important features without cross validation is 9.43 %\n"
     ]
    }
   ],
   "source": [
    "error = np.count_nonzero(y - np.sign(X_final@w_final))/len(y)\n",
    "print('The error using the 7 most important features without cross validation is',np.round(error*100,2),'%')"
   ]
  },
  {
   "cell_type": "code",
   "execution_count": 21,
   "metadata": {},
   "outputs": [
    {
     "name": "stdout",
     "output_type": "stream",
     "text": [
      "The expected error of this 7 feature model is 9.34 %\n"
     ]
    }
   ],
   "source": [
    "expected_error = cross_val(X_final,y,splits)\n",
    "\n",
    "print('The expected error of this 7 feature model is', np.round(expected_error*100,2), '%')"
   ]
  },
  {
   "cell_type": "markdown",
   "metadata": {},
   "source": [
    "## Validation"
   ]
  },
  {
   "cell_type": "markdown",
   "metadata": {},
   "source": [
    "### Remove one Feature"
   ]
  },
  {
   "cell_type": "code",
   "execution_count": 22,
   "metadata": {},
   "outputs": [],
   "source": [
    "avg_error = np.zeros(X_final.shape[1])\n",
    "\n",
    "for i in range(X_final.shape[1]):\n",
    "    \n",
    "    delete_feat = i\n",
    "    X_del = np.delete(X_final,delete_feat,axis=1)\n",
    "        \n",
    "    avg_error[i] = cross_val(X_del,y,splits)"
   ]
  },
  {
   "cell_type": "code",
   "execution_count": 23,
   "metadata": {},
   "outputs": [
    {
     "data": {
      "image/png": "[encoded data removed]",
      "text/plain": [
       "<Figure size 576x576 with 1 Axes>"
      ]
     },
     "metadata": {
      "needs_background": "light"
     },
     "output_type": "display_data"
    }
   ],
   "source": [
    "plt.figure(figsize=(8,8))\n",
    "plt.rc('font', size=12)\n",
    "plt.scatter(np.arange(X_final.shape[1])+1,avg_error*100,color='k', marker='o', alpha=1)\n",
    "plt.plot([1,7],[expected_error*100,expected_error*100],color='b',label='Best 7 Features')\n",
    "plt.xlabel('Removed Feature',fontsize=14)\n",
    "plt.xticks(np.arange(7)+1)\n",
    "plt.ylabel('Predicted Error [%]',fontsize=14)\n",
    "plt.legend()\n",
    "plt.show()"
   ]
  },
  {
   "cell_type": "markdown",
   "metadata": {},
   "source": [
    "### Add one Feature"
   ]
  },
  {
   "cell_type": "code",
   "execution_count": 24,
   "metadata": {},
   "outputs": [],
   "source": [
    "k = 0\n",
    "\n",
    "avg_error = []\n",
    "ind = []\n",
    "\n",
    "for i in range(X.shape[1]):\n",
    "    \n",
    "    if i not in best_feat[:7]:\n",
    "    \n",
    "        delete_feat = np.delete(np.arange(0,X.shape[1]),np.hstack((best_feat[:7],np.array([i],dtype=int))))\n",
    "        X_final_add = np.delete(X,delete_feat,axis=1)\n",
    "        avg_error.append( cross_val(X_final_add,y,splits) )\n",
    "        ind.append(i)\n",
    "\n",
    "avg_error = np.array(avg_error)\n",
    "ind = np.array(ind)"
   ]
  },
  {
   "cell_type": "code",
   "execution_count": 25,
   "metadata": {},
   "outputs": [
    {
     "data": {
      "image/png": "[encoded data removed]",
      "text/plain": [
       "<Figure size 576x576 with 1 Axes>"
      ]
     },
     "metadata": {
      "needs_background": "light"
     },
     "output_type": "display_data"
    }
   ],
   "source": [
    "plt.figure(figsize=(8,8))\n",
    "plt.rc('font', size=12)\n",
    "plt.scatter(ind,avg_error*100,color='k', marker='o', alpha=1)\n",
    "plt.plot([1,18],[expected_error*100,expected_error*100],color='b',label='Best 7 Features')\n",
    "plt.xlabel('Added Feature',fontsize=14)\n",
    "plt.xticks(np.arange(18)+1)\n",
    "plt.ylabel('Predicted Error [%]',fontsize=14)\n",
    "plt.legend()\n",
    "plt.show()"
   ]
  },
  {
   "cell_type": "markdown",
   "metadata": {},
   "source": [
    "It can be observed adding any feature to the dataset does not significantly reduce the predicted error. In some cases, adding the feature even increases the expected error. This is consistent with out graph of ranked features and validates the selection of the features."
   ]
  }
 ],
 "metadata": {
  "kernelspec": {
   "display_name": "Python 3",
   "language": "python",
   "name": "python3"
  },
  "language_info": {
   "codemirror_mode": {
    "name": "ipython",
    "version": 3
   },
   "file_extension": ".py",
   "mimetype": "text/x-python",
   "name": "python",
   "nbconvert_exporter": "python",
   "pygments_lexer": "ipython3",
   "version": "3.8.5"
  }
 },
 "nbformat": 4,
 "nbformat_minor": 4
}
