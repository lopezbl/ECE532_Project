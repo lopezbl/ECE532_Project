{
 "cells": [
  {
   "cell_type": "markdown",
   "metadata": {},
   "source": [
    "# Neural Network"
   ]
  },
  {
   "cell_type": "code",
   "execution_count": 1,
   "metadata": {},
   "outputs": [],
   "source": [
    "import torch\n",
    "import numpy as np\n",
    "import pandas as pd\n",
    "import matplotlib.pyplot as plt\n",
    "import torch.nn as nn\n",
    "import torch.nn.functional as F\n",
    "from sympy import Matrix\n",
    "from IPython.display import display, Math\n",
    "from imblearn.over_sampling import SMOTE\n",
    "sm = SMOTE(random_state=2)"
   ]
  },
  {
   "cell_type": "code",
   "execution_count": 2,
   "metadata": {},
   "outputs": [],
   "source": [
    "def plot_decision_boundary(pred_func,X,y):\n",
    "    x_min, x_max = 0, 1.5\n",
    "    y_min, y_max = 0, 1.5\n",
    "    h = 0.01\n",
    "    xx,yy=np.meshgrid(np.arange(x_min, x_max, h), np.arange(y_min, y_max, h))\n",
    "    Z = pred_func(np.c_[xx.ravel(), yy.ravel()])\n",
    "    Z = Z.reshape(xx.shape)\n",
    "    plt.figure(figsize=(8,8))\n",
    "    plt.rc('font', size=12)\n",
    "    plt.contourf(xx, yy, Z, cmap=plt.cm.Spectral)\n",
    "    plt.scatter(X[:, 0], X[:, 1], c=y, cmap=plt.cm.binary)\n",
    "    plt.xlabel('Feature 1')\n",
    "    plt.ylabel('Feature 2')"
   ]
  },
  {
   "cell_type": "code",
   "execution_count": 3,
   "metadata": {},
   "outputs": [],
   "source": [
    "def prec_mat(y,yhat):\n",
    "    \n",
    "    y_true = len(y[y==1])\n",
    "    y_false = len(y[y==0])\n",
    "    \n",
    "    yhat_true = len(yhat[yhat==1])\n",
    "    yhat_false = len(yhat[yhat==0])\n",
    "    \n",
    "    error = y - yhat\n",
    "    \n",
    "    inc_true = len(error[error==1])\n",
    "    inc_false = len(error[error==-1])\n",
    "    \n",
    "    cor_true = y_true - inc_true\n",
    "    cor_false = y_false - inc_false\n",
    "    \n",
    "    y_mat = np.array([[cor_true/y_true,inc_false/y_false],[inc_true/y_true,cor_false/y_false]])\n",
    "  \n",
    "    return y_mat"
   ]
  },
  {
   "cell_type": "markdown",
   "metadata": {},
   "source": [
    "## Load Data "
   ]
  },
  {
   "cell_type": "markdown",
   "metadata": {},
   "source": [
    "It was noticed in training the least sqaured algorithim that there were two features that created a clear boundary layer. The other algorithims were not capable of creating the boundary line with just two features. As a result, additional features that didn't have as clear boundaries were used to have a higher dimensional feature space. However, a neural network is capable of making a more complicated decision boundary."
   ]
  },
  {
   "cell_type": "markdown",
   "metadata": {},
   "source": [
    "A neural netwrok should be less sensistive to the imbalance in the data but it will still be affected by and be subject to overfitting. To see the impact of this, a neural network will be trained with and without oversampling. The parameters for both neural networks will be set to the same."
   ]
  },
  {
   "cell_type": "markdown",
   "metadata": {},
   "source": [
    "### Training"
   ]
  },
  {
   "cell_type": "code",
   "execution_count": 4,
   "metadata": {},
   "outputs": [],
   "source": [
    "data = pd.read_csv('nasa_train.csv')\n",
    "data.drop(['Est Dia in KM(max)','Relative Velocity km per sec','Miss Dist.(kilometers)','Orbit Uncertainity','Jupiter Tisserand Invariant',\n",
    "           'Epoch Osculation','Eccentricity','Semi Major Axis','Inclination','Asc Node Longitude','Orbital Period',\n",
    "           'Perihelion Distance','Perihelion Arg','Aphelion Dist','Perihelion Time','Mean Anomaly','Mean Motion']\n",
    "           ,axis=1,inplace=True)\n",
    "\n",
    "y_pre = data.Hazardous.values.reshape(-1,1)\n",
    "y_pre = 1/2 * (y_pre + 1)\n",
    "y_pre = y_pre.astype(int)\n",
    "y_pre = y_pre.flatten()\n",
    "\n",
    "X_pre = data.drop(['Hazardous'],axis=1).values\n",
    "X_scale = np.max(X_pre,axis=0)\n",
    "X_pre = np.divide(X_pre,X_scale)"
   ]
  },
  {
   "cell_type": "markdown",
   "metadata": {},
   "source": [
    "### Testing"
   ]
  },
  {
   "cell_type": "code",
   "execution_count": 5,
   "metadata": {},
   "outputs": [],
   "source": [
    "data = pd.read_csv('nasa_test.csv')\n",
    "data.drop(['Est Dia in KM(max)','Relative Velocity km per sec','Miss Dist.(kilometers)','Orbit Uncertainity','Jupiter Tisserand Invariant',\n",
    "           'Epoch Osculation','Eccentricity','Semi Major Axis','Inclination','Asc Node Longitude','Orbital Period',\n",
    "           'Perihelion Distance','Perihelion Arg','Aphelion Dist','Perihelion Time','Mean Anomaly','Mean Motion']\n",
    "           ,axis=1,inplace=True)\n",
    "y_test = data.Hazardous.values.reshape(-1,1)\n",
    "y_test = 1/2 * (y_test + 1)\n",
    "y_test = y_test.astype(int)\n",
    "X_test = data.drop(['Hazardous'],axis=1).values\n",
    "X_test = np.divide(X_test,X_scale)\n",
    "X_test = torch.from_numpy(X_test).type(torch.FloatTensor)"
   ]
  },
  {
   "cell_type": "markdown",
   "metadata": {},
   "source": [
    "## Training"
   ]
  },
  {
   "cell_type": "markdown",
   "metadata": {},
   "source": [
    "### Training without SMOTE"
   ]
  },
  {
   "cell_type": "code",
   "execution_count": 6,
   "metadata": {},
   "outputs": [],
   "source": [
    "X = X_pre\n",
    "X_scale = np.max(X,axis=0)\n",
    "X = np.divide(X,X_scale)\n",
    "y = y_pre\n",
    "\n",
    "X = torch.from_numpy(X).type(torch.FloatTensor)\n",
    "y = torch.from_numpy(y).type(torch.LongTensor)"
   ]
  },
  {
   "cell_type": "code",
   "execution_count": 7,
   "metadata": {},
   "outputs": [],
   "source": [
    "class Net(nn.Module):\n",
    "    def __init__(self):\n",
    "        super(Net,self).__init__()\n",
    "        self.fc1 = nn.Linear(2,4)\n",
    "        self.fc2 = nn.Linear(4,2)\n",
    "        \n",
    "    def forward(self,x):\n",
    "        x = self.fc1(x)\n",
    "        x = torch.tanh(x)\n",
    "        x = self.fc2(x)\n",
    "        return x\n",
    "              \n",
    "    def predict(self,x):\n",
    "        pred = F.softmax(self.forward(x))\n",
    "        ans = []\n",
    "        for t in pred:\n",
    "            if t[0]>t[1]:\n",
    "                ans.append(0)\n",
    "            else:\n",
    "                ans.append(1)\n",
    "        return torch.tensor(ans)"
   ]
  },
  {
   "cell_type": "code",
   "execution_count": 8,
   "metadata": {},
   "outputs": [],
   "source": [
    "model = Net()\n",
    "criterion = nn.CrossEntropyLoss()\n",
    "optimizer = torch.optim.Adam(model.parameters(), lr=0.01)\n",
    "\n",
    "epochs = 100000\n",
    "losses = []\n",
    "for i in range(epochs):\n",
    "    y_pred = model.forward(X)\n",
    "    loss = criterion(y_pred,y)\n",
    "    losses.append(loss.item())\n",
    "    optimizer.zero_grad()\n",
    "    loss.backward()\n",
    "    optimizer.step()\n",
    "\n",
    "def predict(x):\n",
    "    x = torch.from_numpy(x).type(torch.FloatTensor)\n",
    "    ans = model.predict(x)\n",
    "    return ans.numpy()"
   ]
  },
  {
   "cell_type": "code",
   "execution_count": 9,
   "metadata": {},
   "outputs": [
    {
     "name": "stderr",
     "output_type": "stream",
     "text": [
      "<ipython-input-7-27f7049da41d>:14: UserWarning: Implicit dimension choice for softmax has been deprecated. Change the call to include dim=X as an argument.\n",
      "  pred = F.softmax(self.forward(x))\n"
     ]
    },
    {
     "data": {
      "image/png": "[encoded data removed]",
      "text/plain": [
       "<Figure size 576x576 with 1 Axes>"
      ]
     },
     "metadata": {
      "needs_background": "light"
     },
     "output_type": "display_data"
    }
   ],
   "source": [
    "plot_decision_boundary(lambda x : predict(x),X.numpy(),y.numpy())"
   ]
  },
  {
   "cell_type": "code",
   "execution_count": 10,
   "metadata": {},
   "outputs": [
    {
     "name": "stdout",
     "output_type": "stream",
     "text": [
      "The error is 0.4 %\n"
     ]
    },
    {
     "name": "stderr",
     "output_type": "stream",
     "text": [
      "<ipython-input-7-27f7049da41d>:14: UserWarning: Implicit dimension choice for softmax has been deprecated. Change the call to include dim=X as an argument.\n",
      "  pred = F.softmax(self.forward(x))\n"
     ]
    },
    {
     "data": {
      "text/latex": [
       "$\\displaystyle \\left[\\begin{matrix}98.2 & 0.1\\\\1.8 & 99.9\\end{matrix}\\right]$"
      ],
      "text/plain": [
       "Matrix([\n",
       "[98.2,  0.1],\n",
       "[ 1.8, 99.9]])"
      ]
     },
     "metadata": {},
     "output_type": "display_data"
    }
   ],
   "source": [
    "yhat = model.predict(X)\n",
    "yhat = yhat.numpy()\n",
    "yhat = np.reshape(yhat,y.shape)\n",
    "\n",
    "err = y - yhat\n",
    "error = np.count_nonzero(err) / len(y)\n",
    "print('The error is',np.round(error*100,1),'%')\n",
    "\n",
    "conf_mat = prec_mat(y,yhat)\n",
    "display(Matrix(np.round(conf_mat*100,1)))"
   ]
  },
  {
   "cell_type": "markdown",
   "metadata": {},
   "source": [
    "### Testing without SMOTE"
   ]
  },
  {
   "cell_type": "code",
   "execution_count": 11,
   "metadata": {},
   "outputs": [
    {
     "name": "stdout",
     "output_type": "stream",
     "text": [
      "The test error is 0.0 %\n"
     ]
    },
    {
     "name": "stderr",
     "output_type": "stream",
     "text": [
      "<ipython-input-7-27f7049da41d>:14: UserWarning: Implicit dimension choice for softmax has been deprecated. Change the call to include dim=X as an argument.\n",
      "  pred = F.softmax(self.forward(x))\n"
     ]
    },
    {
     "data": {
      "text/latex": [
       "$\\displaystyle \\left[\\begin{matrix}100.0 & 0.0\\\\0.0 & 100.0\\end{matrix}\\right]$"
      ],
      "text/plain": [
       "Matrix([\n",
       "[100.0,   0.0],\n",
       "[  0.0, 100.0]])"
      ]
     },
     "metadata": {},
     "output_type": "display_data"
    }
   ],
   "source": [
    "yhat_test = model.predict(X_test)\n",
    "yhat_test = yhat_test.numpy()\n",
    "yhat_test = np.reshape(yhat_test,y_test.shape)\n",
    "\n",
    "err = y_test - yhat_test\n",
    "error = np.count_nonzero(err) / len(y_test)\n",
    "print('The test error is',np.round(error*100,1),'%')\n",
    "\n",
    "conf_mat = prec_mat(y_test,yhat_test)\n",
    "display(Matrix(np.round(conf_mat*100,1)))"
   ]
  },
  {
   "cell_type": "markdown",
   "metadata": {},
   "source": [
    "### Training with SMOTE"
   ]
  },
  {
   "cell_type": "code",
   "execution_count": 12,
   "metadata": {},
   "outputs": [],
   "source": [
    "X, y = sm.fit_sample(X_pre, y_pre.ravel()) \n",
    "\n",
    "X = torch.from_numpy(X).type(torch.FloatTensor)\n",
    "y = torch.from_numpy(y).type(torch.LongTensor)"
   ]
  },
  {
   "cell_type": "code",
   "execution_count": 13,
   "metadata": {},
   "outputs": [],
   "source": [
    "class Net_SMOTE(nn.Module):\n",
    "    def __init__(self):\n",
    "        super(Net_SMOTE,self).__init__()\n",
    "        self.fc1 = nn.Linear(2,4)\n",
    "        self.fc2 = nn.Linear(4,2)\n",
    "        \n",
    "    def forward(self,x):\n",
    "        x = self.fc1(x)\n",
    "        x = torch.tanh(x)\n",
    "        x = self.fc2(x)\n",
    "        return x\n",
    "              \n",
    "    def predict(self,x):\n",
    "        pred = F.softmax(self.forward(x))\n",
    "        ans = []\n",
    "        for t in pred:\n",
    "            if t[0]>t[1]:\n",
    "                ans.append(0)\n",
    "            else:\n",
    "                ans.append(1)\n",
    "        return torch.tensor(ans)"
   ]
  },
  {
   "cell_type": "code",
   "execution_count": 14,
   "metadata": {},
   "outputs": [],
   "source": [
    "model_SMOTE = Net_SMOTE()\n",
    "criterion = nn.CrossEntropyLoss()\n",
    "optimizer = torch.optim.Adam(model_SMOTE.parameters(), lr=0.01)\n",
    "\n",
    "epochs = 100000\n",
    "losses = []\n",
    "for i in range(epochs):\n",
    "    y_pred = model_SMOTE.forward(X)\n",
    "    loss = criterion(y_pred,y)\n",
    "    losses.append(loss.item())\n",
    "    optimizer.zero_grad()\n",
    "    loss.backward()\n",
    "    optimizer.step()\n",
    "\n",
    "def predict(x):\n",
    "    x = torch.from_numpy(x).type(torch.FloatTensor)\n",
    "    ans = model_SMOTE.predict(x)\n",
    "    return ans.numpy()"
   ]
  },
  {
   "cell_type": "code",
   "execution_count": 15,
   "metadata": {},
   "outputs": [
    {
     "name": "stderr",
     "output_type": "stream",
     "text": [
      "<ipython-input-13-92a29a4afe29>:14: UserWarning: Implicit dimension choice for softmax has been deprecated. Change the call to include dim=X as an argument.\n",
      "  pred = F.softmax(self.forward(x))\n"
     ]
    },
    {
     "data": {
      "image/png": "[encoded data removed]",
      "text/plain": [
       "<Figure size 576x576 with 1 Axes>"
      ]
     },
     "metadata": {
      "needs_background": "light"
     },
     "output_type": "display_data"
    }
   ],
   "source": [
    "plot_decision_boundary(lambda x : predict(x),X.numpy(),y.numpy())"
   ]
  },
  {
   "cell_type": "code",
   "execution_count": 16,
   "metadata": {},
   "outputs": [
    {
     "name": "stdout",
     "output_type": "stream",
     "text": [
      "The error is 0.4 %\n"
     ]
    },
    {
     "name": "stderr",
     "output_type": "stream",
     "text": [
      "<ipython-input-13-92a29a4afe29>:14: UserWarning: Implicit dimension choice for softmax has been deprecated. Change the call to include dim=X as an argument.\n",
      "  pred = F.softmax(self.forward(x))\n"
     ]
    },
    {
     "data": {
      "text/latex": [
       "$\\displaystyle \\left[\\begin{matrix}99.6 & 0.5\\\\0.4 & 99.5\\end{matrix}\\right]$"
      ],
      "text/plain": [
       "Matrix([\n",
       "[99.6,  0.5],\n",
       "[ 0.4, 99.5]])"
      ]
     },
     "metadata": {},
     "output_type": "display_data"
    }
   ],
   "source": [
    "yhat = model_SMOTE.predict(X)\n",
    "yhat = yhat.numpy()\n",
    "yhat = np.reshape(yhat,y.shape)\n",
    "\n",
    "err = y - yhat\n",
    "error = np.count_nonzero(err) / len(y)\n",
    "print('The error is',np.round(error*100,1),'%')\n",
    "\n",
    "conf_mat = prec_mat(y,yhat)\n",
    "display(Matrix(np.round(conf_mat*100,1)))"
   ]
  },
  {
   "cell_type": "markdown",
   "metadata": {},
   "source": [
    "### Testing with SMOTE"
   ]
  },
  {
   "cell_type": "code",
   "execution_count": 17,
   "metadata": {},
   "outputs": [
    {
     "name": "stdout",
     "output_type": "stream",
     "text": [
      "The test error is 0.4 %\n"
     ]
    },
    {
     "name": "stderr",
     "output_type": "stream",
     "text": [
      "<ipython-input-13-92a29a4afe29>:14: UserWarning: Implicit dimension choice for softmax has been deprecated. Change the call to include dim=X as an argument.\n",
      "  pred = F.softmax(self.forward(x))\n"
     ]
    },
    {
     "data": {
      "text/latex": [
       "$\\displaystyle \\left[\\begin{matrix}100.0 & 0.5\\\\0.0 & 99.5\\end{matrix}\\right]$"
      ],
      "text/plain": [
       "Matrix([\n",
       "[100.0,  0.5],\n",
       "[  0.0, 99.5]])"
      ]
     },
     "metadata": {},
     "output_type": "display_data"
    }
   ],
   "source": [
    "yhat_test = model_SMOTE.predict(X_test)\n",
    "yhat_test = yhat_test.numpy()\n",
    "yhat_test = np.reshape(yhat_test,y_test.shape)\n",
    "\n",
    "err = y_test - yhat_test\n",
    "error = np.count_nonzero(err) / len(y_test)\n",
    "print('The test error is',np.round(error*100,1),'%')\n",
    "\n",
    "conf_mat = prec_mat(y_test,yhat_test)\n",
    "display(Matrix(np.round(conf_mat*100,1)))"
   ]
  },
  {
   "cell_type": "markdown",
   "metadata": {},
   "source": [
    "## Analysis"
   ]
  },
  {
   "cell_type": "markdown",
   "metadata": {},
   "source": [
    "Both neural networks create similair boundaries and overall error. However, the neural network on the oversampled data led to a better balance in the error between the two classes. For this dataset, the accuracy of the hazardous class is more important so the oversampled neural network will be suggested. "
   ]
  },
  {
   "cell_type": "code",
   "execution_count": null,
   "metadata": {},
   "outputs": [],
   "source": []
  }
 ],
 "metadata": {
  "kernelspec": {
   "display_name": "Python 3",
   "language": "python",
   "name": "python3"
  },
  "language_info": {
   "codemirror_mode": {
    "name": "ipython",
    "version": 3
   },
   "file_extension": ".py",
   "mimetype": "text/x-python",
   "name": "python",
   "nbconvert_exporter": "python",
   "pygments_lexer": "ipython3",
   "version": "3.8.5"
  }
 },
 "nbformat": 4,
 "nbformat_minor": 4
}
