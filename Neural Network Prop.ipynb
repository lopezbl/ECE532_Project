{
 "cells": [
  {
   "cell_type": "markdown",
   "metadata": {},
   "source": [
    "# Neural Network"
   ]
  },
  {
   "cell_type": "code",
   "execution_count": 1,
   "metadata": {},
   "outputs": [],
   "source": [
    "import numpy as np\n",
    "import matplotlib.pyplot as plt\n",
    "import copy\n",
    "from sympy import Matrix\n",
    "from IPython.display import display, Math\n",
    "import pandas as pd\n",
    "from sklearn.preprocessing import MinMaxScaler\n",
    "scaled = MinMaxScaler()\n",
    "from imblearn.over_sampling import SMOTE"
   ]
  },
  {
   "cell_type": "code",
   "execution_count": 9,
   "metadata": {},
   "outputs": [],
   "source": [
    "def prec_mat(y,yhat):\n",
    "    \n",
    "    y_true = len(y[y==1])\n",
    "    y_false = len(y[y==0])\n",
    "    \n",
    "    yhat_true = len(yhat[yhat==1])\n",
    "    yhat_false = len(yhat[yhat==0])\n",
    "    \n",
    "    error = y - yhat\n",
    "    \n",
    "    inc_true = len(error[error==1])\n",
    "    inc_false = len(error[error==-1])\n",
    "    \n",
    "    cor_true = y_true - inc_true\n",
    "    cor_false = y_false - inc_false\n",
    "    \n",
    "    y_mat = np.array([[cor_true/y_true,inc_false/y_false],[inc_true/y_true,cor_false/y_false]])\n",
    "  \n",
    "    return y_mat"
   ]
  },
  {
   "cell_type": "code",
   "execution_count": 3,
   "metadata": {},
   "outputs": [],
   "source": [
    "def NN_prop(Xb,y,M,epochs,alpha):\n",
    "\n",
    "    n = Xb.shape[0]\n",
    "\n",
    "    p = Xb.shape[1] - 1\n",
    "\n",
    "    q = y.shape[1]\n",
    "\n",
    "    V = np.random.randn(M+1, q); \n",
    "    W = np.random.randn(p+1, M);\n",
    "    \n",
    "    def logsig(_x):\n",
    "        return 1/(1+np.exp(-_x))\n",
    "\n",
    "    for epoch in range(epochs):\n",
    "        ind = np.random.permutation(n)\n",
    "        for i in ind:\n",
    "            # Forward-propagate\n",
    "            H = logsig(np.hstack((np.ones((1,1)), Xb[[i],:]@W)))\n",
    "            yhat = logsig(H@V)\n",
    "             # Backpropagate\n",
    "            delta = (yhat-y[i,:])*yhat*(1-yhat)\n",
    "            Vnew = V-alpha*H.T@delta\n",
    "            gamma = delta@V[1:,:].T*H[:,1:]*(1-H[:,1:])\n",
    "            Wnew = W - alpha*Xb[[i],:].T@gamma\n",
    "            V = Vnew\n",
    "            W = Wnew\n",
    "    H = logsig(np.hstack((np.ones((n,1)), Xb@W)))\n",
    "    yhat = np.round(logsig(H@V))\n",
    "    yhat = yhat.astype(int)\n",
    "    err = y - yhat\n",
    "    err = np.count_nonzero(err) / y.shape[0]\n",
    "    \n",
    "    return W,V,yhat,err"
   ]
  },
  {
   "cell_type": "code",
   "execution_count": 4,
   "metadata": {},
   "outputs": [],
   "source": [
    "def NN_eval(X,W,V,y):\n",
    "\n",
    "    n = X.shape[0]\n",
    "    \n",
    "    def logsig(_x):\n",
    "        return 1/(1+np.exp(-_x))\n",
    "    \n",
    "    H = logsig(np.hstack((np.ones((n,1)), X@W)))\n",
    "    yhat = np.round(logsig(H@V))\n",
    "    yhat = yhat.astype(int)\n",
    "    err = y - yhat\n",
    "    err = np.count_nonzero(err) / y.shape[0]\n",
    "\n",
    "    return yhat,err"
   ]
  },
  {
   "cell_type": "markdown",
   "metadata": {},
   "source": [
    "## Load and Process Data"
   ]
  },
  {
   "cell_type": "code",
   "execution_count": 17,
   "metadata": {},
   "outputs": [],
   "source": [
    "data = pd.read_csv('nasa_train.csv')"
   ]
  },
  {
   "cell_type": "markdown",
   "metadata": {},
   "source": [
    "### Scale Features and Implement SMOTE"
   ]
  },
  {
   "cell_type": "code",
   "execution_count": 18,
   "metadata": {},
   "outputs": [],
   "source": [
    "y_pre = data.Hazardous.values.reshape(-1,1)\n",
    "y_pre = 1/2 * (y_pre + 1)\n",
    "y_pre = y_pre.astype(int)\n",
    "X_pre = data.drop(['Hazardous'],axis=1).values\n",
    "X_scale = np.max(X_pre,axis=0)\n",
    "X_pre = np.divide(X_pre,X_scale)\n",
    "X, y = sm.fit_sample(X_pre, y_pre.ravel()) \n",
    "y = np.reshape(y,[len(y),1])\n",
    "n = X.shape[0]"
   ]
  },
  {
   "cell_type": "code",
   "execution_count": 19,
   "metadata": {},
   "outputs": [],
   "source": [
    "data = pd.read_csv('nasa_test.csv')\n",
    "y_test = data.Hazardous.values.reshape(-1,1)\n",
    "y_test = 1/2 * (y_test + 1)\n",
    "y_test = y_test.astype(int)\n",
    "X_unscaled = data.drop(['Hazardous'],axis=1).values\n",
    "X_test = np.divide(X_unscaled,X_scale)\n",
    "Xb_test = np.hstack((np.ones((X_test.shape[0],1)), X_test))"
   ]
  },
  {
   "cell_type": "markdown",
   "metadata": {},
   "source": [
    "## All Feature Neural Network"
   ]
  },
  {
   "cell_type": "code",
   "execution_count": 7,
   "metadata": {},
   "outputs": [],
   "source": [
    "Xb = np.hstack((np.ones((n,1)), X))\n",
    "M = 4\n",
    "epochs = 500\n",
    "alpha = 0.01\n",
    "w,v,yhat,err = NN_prop(Xb,y,M,epochs,alpha)"
   ]
  },
  {
   "cell_type": "code",
   "execution_count": 10,
   "metadata": {},
   "outputs": [
    {
     "name": "stdout",
     "output_type": "stream",
     "text": [
      "The error using all features on the oversampled data is 3.2 %\n"
     ]
    },
    {
     "data": {
      "text/latex": [
       "$\\displaystyle \\left[\\begin{matrix}99.4 & 5.8\\\\0.6 & 94.2\\end{matrix}\\right]$"
      ],
      "text/plain": [
       "Matrix([\n",
       "[99.4,  5.8],\n",
       "[ 0.6, 94.2]])"
      ]
     },
     "metadata": {},
     "output_type": "display_data"
    }
   ],
   "source": [
    "print('The error using all features on the oversampled data is',np.round(err*100,1),'%')\n",
    "conf_mat = prec_mat(y,yhat)\n",
    "display(Matrix(np.round(conf_mat*100,1)))"
   ]
  },
  {
   "cell_type": "code",
   "execution_count": 11,
   "metadata": {},
   "outputs": [
    {
     "name": "stdout",
     "output_type": "stream",
     "text": [
      "The error using all features is 5.1 %\n"
     ]
    },
    {
     "data": {
      "text/latex": [
       "$\\displaystyle \\left[\\begin{matrix}98.4 & 5.8\\\\1.6 & 94.2\\end{matrix}\\right]$"
      ],
      "text/plain": [
       "Matrix([\n",
       "[98.4,  5.8],\n",
       "[ 1.6, 94.2]])"
      ]
     },
     "metadata": {},
     "output_type": "display_data"
    }
   ],
   "source": [
    "Xb_pre = np.hstack((np.ones((X_pre.shape[0],1)), X_pre))\n",
    "yhat,error = NN_eval(Xb_pre,w,v,y_pre)\n",
    "print('The error using all features is',np.round(error*100,1),'%')\n",
    "conf_mat = prec_mat(y_pre,yhat)\n",
    "display(Matrix(np.round(conf_mat*100,1)))"
   ]
  },
  {
   "cell_type": "code",
   "execution_count": 20,
   "metadata": {},
   "outputs": [
    {
     "name": "stdout",
     "output_type": "stream",
     "text": [
      "The final error is 12.8 %\n"
     ]
    },
    {
     "data": {
      "text/latex": [
       "$\\displaystyle \\left[\\begin{matrix}18.9 & 0.0\\\\81.1 & 100.0\\end{matrix}\\right]$"
      ],
      "text/plain": [
       "Matrix([\n",
       "[18.9,   0.0],\n",
       "[81.1, 100.0]])"
      ]
     },
     "metadata": {},
     "output_type": "display_data"
    }
   ],
   "source": [
    "yhat,error = NN_eval(Xb_test,w,v,y_test)\n",
    "print('The final error is',np.round(error*100,1),'%')\n",
    "conf_mat = prec_mat(y_test,yhat)\n",
    "display(Matrix(np.round(conf_mat*100,1)))"
   ]
  },
  {
   "cell_type": "markdown",
   "metadata": {},
   "source": [
    "## Feature Selection with Neural Network"
   ]
  },
  {
   "cell_type": "markdown",
   "metadata": {},
   "source": [
    "### Initial Guess"
   ]
  },
  {
   "cell_type": "code",
   "execution_count": 41,
   "metadata": {},
   "outputs": [],
   "source": [
    "delete_feat = np.delete(np.arange(X.shape[1]),[0,5,1])\n",
    "X_3 = np.delete(X,delete_feat,axis=1)\n",
    "X_3_pre = np.delete(X_pre,delete_feat,axis=1)\n",
    "\n",
    "Xb_3 = np.hstack((np.ones((n,1)), X_3))\n",
    "M = 4\n",
    "epochs = 200\n",
    "alpha = 0.1\n",
    "w_3,v_3,yhat,err = NN_prop(Xb_3,y,M,epochs,alpha)"
   ]
  },
  {
   "cell_type": "code",
   "execution_count": 42,
   "metadata": {},
   "outputs": [
    {
     "name": "stdout",
     "output_type": "stream",
     "text": [
      "The error using three features on the oversampled data is 5.7 %\n"
     ]
    },
    {
     "data": {
      "text/latex": [
       "$\\displaystyle \\left[\\begin{matrix}94.9 & 6.4\\\\5.1 & 93.6\\end{matrix}\\right]$"
      ],
      "text/plain": [
       "Matrix([\n",
       "[94.9,  6.4],\n",
       "[ 5.1, 93.6]])"
      ]
     },
     "metadata": {},
     "output_type": "display_data"
    }
   ],
   "source": [
    "print('The error using three features on the oversampled data is',np.round(err*100,1),'%')\n",
    "conf_mat = prec_mat(y,yhat)\n",
    "display(Matrix(np.round(conf_mat*100,1)))"
   ]
  },
  {
   "cell_type": "code",
   "execution_count": 43,
   "metadata": {},
   "outputs": [
    {
     "name": "stdout",
     "output_type": "stream",
     "text": [
      "The error using three features is 6.6 %\n"
     ]
    },
    {
     "data": {
      "text/latex": [
       "$\\displaystyle \\left[\\begin{matrix}91.9 & 6.4\\\\8.1 & 93.6\\end{matrix}\\right]$"
      ],
      "text/plain": [
       "Matrix([\n",
       "[91.9,  6.4],\n",
       "[ 8.1, 93.6]])"
      ]
     },
     "metadata": {},
     "output_type": "display_data"
    }
   ],
   "source": [
    "Xb_3_pre = np.hstack((np.ones((X_3_pre.shape[0],1)), X_3_pre))\n",
    "yhat,error = NN_eval(Xb_3_pre,w_3,v_3,y_pre)\n",
    "print('The error using three features is',np.round(error*100,1),'%')\n",
    "conf_mat = prec_mat(y_pre,yhat)\n",
    "display(Matrix(np.round(conf_mat*100,1)))"
   ]
  },
  {
   "cell_type": "code",
   "execution_count": 44,
   "metadata": {},
   "outputs": [
    {
     "name": "stdout",
     "output_type": "stream",
     "text": [
      "The test error using two features is 6.6 %\n"
     ]
    },
    {
     "data": {
      "text/latex": [
       "$\\displaystyle \\left[\\begin{matrix}91.9 & 6.3\\\\8.1 & 93.7\\end{matrix}\\right]$"
      ],
      "text/plain": [
       "Matrix([\n",
       "[91.9,  6.3],\n",
       "[ 8.1, 93.7]])"
      ]
     },
     "metadata": {},
     "output_type": "display_data"
    }
   ],
   "source": [
    "X_3_test = np.delete(X_test,delete_feat,axis=1)\n",
    "Xb_3_test = np.hstack((np.ones((X_3_test.shape[0],1)), X_3_test))\n",
    "\n",
    "yhat,error = NN_eval(Xb_3_test,w_3,v_3,y_test)\n",
    "print('The test error using two features is',np.round(error*100,1),'%')\n",
    "conf_mat = prec_mat(y_test,yhat)\n",
    "display(Matrix(np.round(conf_mat*100,1)))"
   ]
  },
  {
   "cell_type": "code",
   "execution_count": 45,
   "metadata": {},
   "outputs": [],
   "source": [
    "delete_feat = np.delete(np.arange(X.shape[1]),[0,5])\n",
    "X_2 = np.delete(X,delete_feat,axis=1)\n",
    "X_2_pre = np.delete(X_pre,delete_feat,axis=1)\n",
    "\n",
    "Xb_2 = np.hstack((np.ones((n,1)), X_2))\n",
    "M = 4\n",
    "epochs = 200\n",
    "alpha = 0.1\n",
    "w_2,v_2,yhat,err = NN_prop(Xb_2,y,M,epochs,alpha)"
   ]
  },
  {
   "cell_type": "code",
   "execution_count": 46,
   "metadata": {},
   "outputs": [
    {
     "name": "stdout",
     "output_type": "stream",
     "text": [
      "The error using two features on the oversampled data is 6.7 %\n"
     ]
    },
    {
     "data": {
      "text/latex": [
       "$\\displaystyle \\left[\\begin{matrix}93.4 & 6.7\\\\6.6 & 93.3\\end{matrix}\\right]$"
      ],
      "text/plain": [
       "Matrix([\n",
       "[93.4,  6.7],\n",
       "[ 6.6, 93.3]])"
      ]
     },
     "metadata": {},
     "output_type": "display_data"
    }
   ],
   "source": [
    "print('The error using two features on the oversampled data is',np.round(err*100,1),'%')\n",
    "conf_mat = prec_mat(y,yhat)\n",
    "display(Matrix(np.round(conf_mat*100,1)))"
   ]
  },
  {
   "cell_type": "code",
   "execution_count": 47,
   "metadata": {},
   "outputs": [
    {
     "name": "stdout",
     "output_type": "stream",
     "text": [
      "The error using two features is 7.2 %\n"
     ]
    },
    {
     "data": {
      "text/latex": [
       "$\\displaystyle \\left[\\begin{matrix}90.2 & 6.7\\\\9.8 & 93.3\\end{matrix}\\right]$"
      ],
      "text/plain": [
       "Matrix([\n",
       "[90.2,  6.7],\n",
       "[ 9.8, 93.3]])"
      ]
     },
     "metadata": {},
     "output_type": "display_data"
    }
   ],
   "source": [
    "Xb_2_pre = np.hstack((np.ones((X_2_pre.shape[0],1)), X_2_pre))\n",
    "yhat,error = NN_eval(Xb_2_pre,w_2,v_2,y_pre)\n",
    "print('The error using two features is',np.round(error*100,1),'%')\n",
    "conf_mat = prec_mat(y_pre,yhat)\n",
    "display(Matrix(np.round(conf_mat*100,1)))"
   ]
  },
  {
   "cell_type": "code",
   "execution_count": 48,
   "metadata": {},
   "outputs": [
    {
     "name": "stdout",
     "output_type": "stream",
     "text": [
      "The test error using two features is 7.0 %\n"
     ]
    },
    {
     "data": {
      "text/latex": [
       "$\\displaystyle \\left[\\begin{matrix}91.9 & 6.8\\\\8.1 & 93.2\\end{matrix}\\right]$"
      ],
      "text/plain": [
       "Matrix([\n",
       "[91.9,  6.8],\n",
       "[ 8.1, 93.2]])"
      ]
     },
     "metadata": {},
     "output_type": "display_data"
    }
   ],
   "source": [
    "X_2_test = np.delete(X_test,delete_feat,axis=1)\n",
    "Xb_2_test = np.hstack((np.ones((X_2_test.shape[0],1)), X_2_test))\n",
    "\n",
    "yhat,error = NN_eval(Xb_2_test,w_2,v_2,y_test)\n",
    "print('The test error using two features is',np.round(error*100,1),'%')\n",
    "conf_mat = prec_mat(y_test,yhat)\n",
    "display(Matrix(np.round(conf_mat*100,1)))"
   ]
  },
  {
   "cell_type": "markdown",
   "metadata": {},
   "source": [
    "## Final Training"
   ]
  },
  {
   "cell_type": "code",
   "execution_count": 61,
   "metadata": {},
   "outputs": [],
   "source": [
    "data = pd.read_csv('nasa_train.csv')\n",
    "data.drop(['Est Dia in KM(max)','Relative Velocity km per sec','Miss Dist.(kilometers)','Orbit Uncertainity','Jupiter Tisserand Invariant',\n",
    "           'Epoch Osculation','Eccentricity','Semi Major Axis','Inclination','Asc Node Longitude','Orbital Period',\n",
    "           'Perihelion Distance','Perihelion Arg','Aphelion Dist','Perihelion Time','Mean Anomaly','Mean Motion']\n",
    "           ,axis=1,inplace=True)"
   ]
  },
  {
   "cell_type": "code",
   "execution_count": 62,
   "metadata": {},
   "outputs": [],
   "source": [
    "y_pre = data.Hazardous.values.reshape(-1,1)\n",
    "y_pre = 1/2 * (y_pre + 1)\n",
    "y_pre = y_pre.astype(int)\n",
    "X_final_pre = data.drop(['Hazardous'],axis=1).values\n",
    "X_scale = np.max(X_final_pre,axis=0)\n",
    "X_final_pre = np.divide(X_final_pre,X_scale)\n",
    "X_final, y = sm.fit_sample(X_final_pre, y_pre.ravel()) \n",
    "y = np.reshape(y,[len(y),1])\n",
    "Xb = np.hstack((np.ones((X_final.shape[0],1)), X_final))"
   ]
  },
  {
   "cell_type": "markdown",
   "metadata": {},
   "source": [
    "### Impact of M"
   ]
  },
  {
   "cell_type": "code",
   "execution_count": 74,
   "metadata": {},
   "outputs": [],
   "source": [
    "M = np.array([3,5,10,15,20])\n",
    "epochs = 100 * M / np.min(M)\n",
    "epochs = epochs.astype(int)\n",
    "alpha = 0.1\n",
    "\n",
    "error_M = np.zeros(len(M))\n",
    "\n",
    "for i in range(len(M)):\n",
    "    w,v,yhat,err = NN_prop(Xb,y,M[i],epochs[i],alpha)\n",
    "    error_M[i] = err"
   ]
  },
  {
   "cell_type": "code",
   "execution_count": 75,
   "metadata": {},
   "outputs": [
    {
     "data": {
      "text/plain": [
       "Text(0, 0.5, 'Error [%]')"
      ]
     },
     "execution_count": 75,
     "metadata": {},
     "output_type": "execute_result"
    },
    {
     "data": {
      "image/png": "[encoded data removed]",
      "text/plain": [
       "<Figure size 576x576 with 1 Axes>"
      ]
     },
     "metadata": {
      "needs_background": "light"
     },
     "output_type": "display_data"
    }
   ],
   "source": [
    "plt.figure(figsize=(8,8))\n",
    "plt.rc('font', size=12)\n",
    "plt.scatter(M,100*error_M)\n",
    "plt.xlabel('M')\n",
    "plt.ylabel('Error [%]')"
   ]
  },
  {
   "cell_type": "markdown",
   "metadata": {},
   "source": [
    "### Impact of Learning Rate"
   ]
  },
  {
   "cell_type": "code",
   "execution_count": 77,
   "metadata": {},
   "outputs": [],
   "source": [
    "M = 10\n",
    "epochs = 100 * M\n",
    "alpha = np.array([0.01,0.1,0.2,0.5])\n",
    "\n",
    "error_alpha = np.zeros(len(alpha))\n",
    "\n",
    "for i in range(len(alpha)):\n",
    "    w,v,yhat,err = NN_prop(Xb,y,M,epochs,alpha[i])\n",
    "    error_alpha[i] = err"
   ]
  },
  {
   "cell_type": "code",
   "execution_count": 78,
   "metadata": {},
   "outputs": [
    {
     "data": {
      "text/plain": [
       "Text(0, 0.5, 'Error [%]')"
      ]
     },
     "execution_count": 78,
     "metadata": {},
     "output_type": "execute_result"
    },
    {
     "data": {
      "image/png": "[encoded data removed]",
      "text/plain": [
       "<Figure size 576x576 with 1 Axes>"
      ]
     },
     "metadata": {
      "needs_background": "light"
     },
     "output_type": "display_data"
    }
   ],
   "source": [
    "plt.figure(figsize=(8,8))\n",
    "plt.rc('font', size=12)\n",
    "plt.scatter(alpha,100*error_alpha)\n",
    "plt.xlabel('Learning Rate')\n",
    "plt.ylabel('Error [%]')"
   ]
  },
  {
   "cell_type": "markdown",
   "metadata": {},
   "source": [
    "A moderate number of hidden nodes and learning rate works best for the dataset."
   ]
  },
  {
   "cell_type": "code",
   "execution_count": 79,
   "metadata": {},
   "outputs": [],
   "source": [
    "M = 10\n",
    "epochs = 2000\n",
    "alpha = 0.2\n",
    "w,v,yhat,err = NN_prop(Xb,y,M,epochs,alpha)"
   ]
  },
  {
   "cell_type": "code",
   "execution_count": 80,
   "metadata": {},
   "outputs": [
    {
     "name": "stdout",
     "output_type": "stream",
     "text": [
      "The error using two features on the oversampled data is 0.7 %\n"
     ]
    },
    {
     "data": {
      "text/latex": [
       "$\\displaystyle \\left[\\begin{matrix}99.5 & 0.8\\\\0.5 & 99.2\\end{matrix}\\right]$"
      ],
      "text/plain": [
       "Matrix([\n",
       "[99.5,  0.8],\n",
       "[ 0.5, 99.2]])"
      ]
     },
     "metadata": {},
     "output_type": "display_data"
    }
   ],
   "source": [
    "print('The error using two features on the oversampled data is',np.round(err*100,1),'%')\n",
    "conf_mat = prec_mat(y,yhat)\n",
    "display(Matrix(np.round(conf_mat*100,1)))"
   ]
  },
  {
   "cell_type": "code",
   "execution_count": 81,
   "metadata": {},
   "outputs": [
    {
     "name": "stdout",
     "output_type": "stream",
     "text": [
      "The final error is 0.9 %\n"
     ]
    },
    {
     "data": {
      "text/latex": [
       "$\\displaystyle \\left[\\begin{matrix}99.1 & 0.8\\\\0.9 & 99.2\\end{matrix}\\right]$"
      ],
      "text/plain": [
       "Matrix([\n",
       "[99.1,  0.8],\n",
       "[ 0.9, 99.2]])"
      ]
     },
     "metadata": {},
     "output_type": "display_data"
    }
   ],
   "source": [
    "Xb_pre = np.hstack((np.ones((X_final_pre.shape[0],1)), X_final_pre))\n",
    "yhat,error = NN_eval(Xb_pre,w,v,y_pre)\n",
    "print('The final error is',np.round(error*100,1),'%')\n",
    "conf_mat = prec_mat(y_pre,yhat)\n",
    "display(Matrix(np.round(conf_mat*100,1)))"
   ]
  },
  {
   "cell_type": "markdown",
   "metadata": {},
   "source": [
    "## Final Testing"
   ]
  },
  {
   "cell_type": "code",
   "execution_count": 82,
   "metadata": {},
   "outputs": [],
   "source": [
    "data = pd.read_csv('nasa_test.csv')\n",
    "data.drop(['Est Dia in KM(max)','Relative Velocity km per sec','Miss Dist.(kilometers)','Orbit Uncertainity','Jupiter Tisserand Invariant',\n",
    "           'Epoch Osculation','Eccentricity','Semi Major Axis','Inclination','Asc Node Longitude','Orbital Period',\n",
    "           'Perihelion Distance','Perihelion Arg','Aphelion Dist','Perihelion Time','Mean Anomaly','Mean Motion']\n",
    "           ,axis=1,inplace=True)\n",
    "y_test = data.Hazardous.values.reshape(-1,1)\n",
    "y_test = 1/2 * (y_test + 1)\n",
    "y_test = y_test.astype(int)\n",
    "\n",
    "X_unscaled = data.drop(['Hazardous'],axis=1).values\n",
    "X_test = np.divide(X_unscaled,X_scale)\n",
    "Xb_test = np.hstack((np.ones((X_test.shape[0],1)), X_test))"
   ]
  },
  {
   "cell_type": "code",
   "execution_count": 83,
   "metadata": {},
   "outputs": [
    {
     "name": "stdout",
     "output_type": "stream",
     "text": [
      "The final test error is 0.2 %\n"
     ]
    },
    {
     "data": {
      "text/latex": [
       "$\\displaystyle \\left[\\begin{matrix}100.0 & 0.3\\\\0.0 & 99.7\\end{matrix}\\right]$"
      ],
      "text/plain": [
       "Matrix([\n",
       "[100.0,  0.3],\n",
       "[  0.0, 99.7]])"
      ]
     },
     "metadata": {},
     "output_type": "display_data"
    }
   ],
   "source": [
    "yhat,error = NN_eval(Xb_test,w,v,y_test)\n",
    "print('The final test error is',np.round(error*100,1),'%')\n",
    "conf_mat = prec_mat(y_test,yhat)\n",
    "display(Matrix(np.round(conf_mat*100,1)))"
   ]
  },
  {
   "cell_type": "code",
   "execution_count": 85,
   "metadata": {},
   "outputs": [
    {
     "data": {
      "text/plain": [
       "array([[1.        , 0.00253165],\n",
       "       [0.        , 0.99746835]])"
      ]
     },
     "execution_count": 85,
     "metadata": {},
     "output_type": "execute_result"
    }
   ],
   "source": [
    "conf_mat"
   ]
  },
  {
   "cell_type": "code",
   "execution_count": 86,
   "metadata": {},
   "outputs": [
    {
     "data": {
      "text/plain": [
       "0.0021321961620469083"
      ]
     },
     "execution_count": 86,
     "metadata": {},
     "output_type": "execute_result"
    }
   ],
   "source": [
    "error"
   ]
  },
  {
   "cell_type": "code",
   "execution_count": null,
   "metadata": {},
   "outputs": [],
   "source": []
  }
 ],
 "metadata": {
  "kernelspec": {
   "display_name": "Python 3",
   "language": "python",
   "name": "python3"
  },
  "language_info": {
   "codemirror_mode": {
    "name": "ipython",
    "version": 3
   },
   "file_extension": ".py",
   "mimetype": "text/x-python",
   "name": "python",
   "nbconvert_exporter": "python",
   "pygments_lexer": "ipython3",
   "version": "3.8.5"
  }
 },
 "nbformat": 4,
 "nbformat_minor": 4
}
